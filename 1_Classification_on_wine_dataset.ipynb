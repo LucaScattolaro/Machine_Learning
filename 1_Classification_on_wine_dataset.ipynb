{
  "cells": [
    {
      "cell_type": "markdown",
      "metadata": {
        "id": "KUOcXao043CT"
      },
      "source": [
        "# Classification on Wine Dataset\n",
        "\n",
        "### Dataset description\n",
        "\n",
        "We will be working with a dataset on wines from the UCI machine learning repository\n",
        "(http://archive.ics.uci.edu/ml/datasets/Wine). It contains data for 178 instances. \n",
        "The dataset is the results of a chemical analysis of wines grown in the same region\n",
        "in Italy but derived from three different cultivars. The analysis determined the\n",
        "quantities of 13 constituents found in each of the three types of wines. \n",
        "\n",
        "### The features in the dataset are:\n",
        "\n",
        "- Alcohol\n",
        "- Malic acid\n",
        "- Ash\n",
        "- Alcalinity of ash\n",
        "- Magnesium\n",
        "- Total phenols\n",
        "- Flavanoids\n",
        "- Nonflavanoid phenols\n",
        "- Proanthocyanins\n",
        "- Color intensity\n",
        "- Hue\n",
        "- OD280/OD315 of diluted wines\n",
        "-Proline\n",
        "\n"
      ]
    },
    {
      "cell_type": "markdown",
      "metadata": {
        "id": "20XSaFn043CW"
      },
      "source": [
        "We first import all the packages that are needed"
      ]
    },
    {
      "cell_type": "code",
      "execution_count": null,
      "metadata": {
        "jupyter": {
          "outputs_hidden": true
        },
        "id": "DE5JmaES43CW"
      },
      "outputs": [],
      "source": [
        "%matplotlib inline\n",
        "import matplotlib.pyplot as plt\n",
        "\n",
        "import numpy as np\n",
        "import scipy as sp\n",
        "from scipy import stats\n",
        "from sklearn import datasets\n",
        "from sklearn import linear_model\n",
        "from sklearn import preprocessing"
      ]
    },
    {
      "cell_type": "markdown",
      "metadata": {
        "id": "_WOyYPOh43CX"
      },
      "source": [
        "# Perceptron\n",
        "We will implement the perceptron and use it to learn a halfspace with 0-1 loss."
      ]
    },
    {
      "cell_type": "markdown",
      "metadata": {
        "id": "gt7YJonX43CX"
      },
      "source": [
        "**TO DO** Set the random seed to your ID (matricola)."
      ]
    },
    {
      "cell_type": "code",
      "execution_count": null,
      "metadata": {
        "jupyter": {
          "outputs_hidden": true
        },
        "id": "vLF8WKyq43CY"
      },
      "outputs": [],
      "source": [
        "IDnumber = 2019157\n",
        "\n",
        "np.random.seed(IDnumber)"
      ]
    },
    {
      "cell_type": "markdown",
      "metadata": {
        "id": "cfYWIcV843CY"
      },
      "source": [
        "Load the dataset from scikit learn and then split in training set and test set (50%-50%) after applying a random permutation to the datset."
      ]
    },
    {
      "cell_type": "code",
      "execution_count": null,
      "metadata": {
        "jupyter": {
          "outputs_hidden": true
        },
        "id": "o4-NUxjt43CY"
      },
      "outputs": [],
      "source": [
        "# Load the dataset from scikit learn\n",
        "wine = datasets.load_wine()\n",
        "\n",
        "m = wine.data.shape[0]\n",
        "permutation = np.random.permutation(m)\n",
        "\n",
        "X = wine.data[permutation]\n",
        "Y = wine.target[permutation]"
      ]
    },
    {
      "cell_type": "markdown",
      "metadata": {
        "id": "7sksz54G43CZ"
      },
      "source": [
        "We are going to classify class \"1\" vs the other two classes (0 and 2). We are going to relabel the other classes (0 and 2) as \"-1\" so that we can use it directly with the perceptron."
      ]
    },
    {
      "cell_type": "code",
      "execution_count": null,
      "metadata": {
        "jupyter": {
          "outputs_hidden": true
        },
        "id": "sQr0BfuQ43CZ"
      },
      "outputs": [],
      "source": [
        "#let's relabel classes 0 and 2 as -1\n",
        "for i in range(len(Y)):\n",
        "    if Y[i] != 1:\n",
        "        Y[i] = -1"
      ]
    },
    {
      "cell_type": "markdown",
      "metadata": {
        "id": "OAyQSR6343CZ"
      },
      "source": [
        "**TO DO** Divide the data into training set and test set (50% of the data each)"
      ]
    },
    {
      "cell_type": "code",
      "execution_count": null,
      "metadata": {
        "jupyter": {
          "outputs_hidden": true
        },
        "id": "_-eHaPj243Ca",
        "outputId": "0fc0e309-1018-4118-eeab-ad7a206897ca"
      },
      "outputs": [
        {
          "name": "stdout",
          "output_type": "stream",
          "text": [
            "[-1 -1  1 -1 -1 -1  1 -1  1 -1 -1  1 -1 -1  1  1 -1 -1  1 -1  1 -1  1 -1\n",
            " -1 -1 -1 -1  1 -1 -1  1  1  1  1 -1  1 -1  1 -1  1 -1  1 -1  1  1  1 -1\n",
            "  1  1 -1  1  1 -1  1  1  1 -1 -1 -1  1  1 -1 -1  1 -1  1 -1 -1 -1 -1 -1\n",
            " -1 -1  1 -1 -1  1  1  1 -1  1 -1 -1  1 -1 -1 -1 -1]\n"
          ]
        }
      ],
      "source": [
        "#Divide in training and test: make sure that your training set\n",
        "#contains at least 10 elements from class 1 and at least 10 elements\n",
        "#from class -1! If it does not, modify the code so to apply more random\n",
        "#permutations (or the same permutation multiple times) until this happens.\n",
        "\n",
        "#m_training needs to be the number of samples in the training set\n",
        "m_training = int(m/2)\n",
        "\n",
        "#m_test needs to be the number of samples in the test set\n",
        "m_test = m-m_training\n",
        "\n",
        "num_elem_class1=0;\n",
        "iteration=0\n",
        "while num_elem_class1<10 or num_elem_class1>(m_training -10):  #permute if there aren't at least 10 elements of each class from class 1 and at least 10 elements\n",
        "    if iteration>0:\n",
        "        X = X[permutation]\n",
        "        Y = Y[permutation]\n",
        "    #X_training = instances for training set\n",
        "    X_training = X[:m_training,:]\n",
        "    #Y_training = labels for the training set\n",
        "    Y_training = Y[:m_training]\n",
        "    #X_test = instances for test set\n",
        "    X_test = X[m_test:,:]\n",
        "    #Y_test = labels for the test set\n",
        "    Y_test = Y[m_test:]\n",
        "    iteration+=1\n",
        "    num_elem_class1=np.count_nonzero(Y_training==1)\n",
        "\n",
        "print(Y_training) #to make sure that Y_training contains both 1 and -1"
      ]
    },
    {
      "cell_type": "markdown",
      "metadata": {
        "id": "fF2NG6X243Cb"
      },
      "source": [
        "Now add a 1 in front of each sample so that we can use a vector to describe all the coefficients of the model. You can use the function $hstack$ in $numpy$"
      ]
    },
    {
      "cell_type": "code",
      "execution_count": null,
      "metadata": {
        "jupyter": {
          "outputs_hidden": true
        },
        "id": "5uBiPv1u43Cb"
      },
      "outputs": [],
      "source": [
        "#add a 1 to each sample\n",
        "X_training = np.hstack((np.ones((m_training,1)),X_training))\n",
        "X_test = np.hstack((np.ones((m_test,1)),X_test))"
      ]
    },
    {
      "cell_type": "markdown",
      "metadata": {
        "id": "NRIQdWD243Cb"
      },
      "source": [
        "Since the perceptron does not terminate if the data is not linearly separable, your implementation should return the desired output (see below) if it reached the termination condition seen in class or if a maximum number of iterations have already been run, where 1 iteration corresponds to 1 update of the perceptron weights. If the perceptron returns because the maximum number of iterations has been reached, you should return an appropriate model. \n",
        "\n",
        "The input parameters to pass are:\n",
        "- $X$: the matrix of input features, one row for each sample\n",
        "- $Y$: the vector of labels for the input features matrix X\n",
        "- $max\\_num\\_iterations$: the maximum number of iterations for running the perceptron\n",
        "\n",
        "The output values are:\n",
        "- $best\\_w$: the vector with the coefficients of the best model\n",
        "- $best\\_error$: the *fraction* of missclassified samples for the best model"
      ]
    },
    {
      "cell_type": "code",
      "execution_count": null,
      "metadata": {
        "jupyter": {
          "outputs_hidden": true
        },
        "id": "icoRkuVJ43Cc"
      },
      "outputs": [],
      "source": [
        "def perceptron(X, Y, max_num_iterations):\n",
        "    best_error=n_samples=Y.shape[0]   \n",
        "    W=np.zeros(X.shape[1])                 \n",
        "    W_next=W.copy()\n",
        "    for t in range(max_num_iterations):\n",
        "        loss_t=0\n",
        "        for i in range(n_samples):\n",
        "            if Y[i]*np.dot(W,X[i]) <= 0:\n",
        "                loss_t+=1\n",
        "                W_next+=np.dot(Y[i],X[i]) #update the next w that will be used in the next iteration\n",
        "        if loss_t==0:\n",
        "            return W, loss_t/n_samples    #loss is 0\n",
        "        if loss_t<best_error:             #if I find a better W I update the values\n",
        "            best_w=W.copy()\n",
        "            best_error=loss_t\n",
        "        W=W_next.copy()       \n",
        "    return best_w, best_error/n_samples"
      ]
    },
    {
      "cell_type": "markdown",
      "metadata": {
        "id": "RyDdjlpw43Cc"
      },
      "source": [
        "Now we use the implementation above of the perceptron to learn a model from the training data using 100 iterations and print the error of the best model we have found."
      ]
    },
    {
      "cell_type": "code",
      "execution_count": null,
      "metadata": {
        "jupyter": {
          "outputs_hidden": true
        },
        "id": "ABLCdg7c43Cd",
        "outputId": "f4db0ad7-f780-4a95-c5fa-084bf752d9f9"
      },
      "outputs": [
        {
          "name": "stdout",
          "output_type": "stream",
          "text": [
            "Training error with 100 iterations: 0.2696629213483146\n",
            "\n",
            "W:  [  528.     5604.22    258.96    948.56  10887.6   41557.     1187.77\n",
            "  1356.12    207.54   1024.32  -1131.47    688.588  1760.31  -6451.   ]\n"
          ]
        }
      ],
      "source": [
        "#now run the perceptron for 100 iterations\n",
        "w_found, training_error = perceptron(X_training,Y_training, 100)\n",
        "print(\"Training error with 100 iterations: \"+str(training_error))\n",
        "print(\"\\nW: \",w_found)"
      ]
    },
    {
      "cell_type": "markdown",
      "metadata": {
        "id": "TScuT0YS43Cd"
      },
      "source": [
        "Use the best model $w\\_found$ to predict the labels for the test dataset and print the fraction of missclassified samples in the test set (that is an estimate of the true loss)."
      ]
    },
    {
      "cell_type": "code",
      "execution_count": null,
      "metadata": {
        "jupyter": {
          "outputs_hidden": true
        },
        "id": "qDtNKTNn43Cd",
        "outputId": "807b08c2-74af-4755-fb4f-2bfcc5bff787"
      },
      "outputs": [
        {
          "name": "stdout",
          "output_type": "stream",
          "text": [
            "Estimated true loss with 100 iterations:0.2696629213483146 \n",
            "number= 24.0\n"
          ]
        }
      ],
      "source": [
        "#now use the w_found to make predictions on test dataset\n",
        "\n",
        "#num_errors = number of errors in the test set\n",
        "num_errors = 0.\n",
        "\n",
        "for i in range(m_test):\n",
        "    if Y_test[i]*np.dot(w_found,X_test[i])<=0:\n",
        "        num_errors+=1\n",
        "        \n",
        "true_loss_estimate = num_errors/m_test\n",
        "\n",
        "#NOTE: you can avoid using num_errors if you prefer, as long as true_loss_estimate is correct\n",
        "print(\"Estimated true loss with 100 iterations:\"+str(true_loss_estimate),\"\\nnumber=\",num_errors)"
      ]
    },
    {
      "cell_type": "markdown",
      "metadata": {
        "id": "AutI38J143Ce"
      },
      "source": [
        "**TO DO**: what relation do you observe between the training error and the (estimated) true loss? Is this what you expected? Explain what you observe and why it does or does not conform to your expectations.\n",
        "\n",
        "**ANSWER**: \n",
        "I expected a true loss greater than the training error but the result is that they are equal with this pseudo-random permutation generated with my IDnumber.\n",
        "At the beginning I tought that there was a problem into the code but I didn't find anything wrong\n",
        "so I decided to try with an other IDnumber (for example with 1) and I saw something that I expected.\n",
        "\n",
        "The result shows only that the best_w returned by the Perceptron misclassified the exact number of samples in both the sets."
      ]
    },
    {
      "cell_type": "markdown",
      "metadata": {
        "id": "-28Ckv3Z43Ce"
      },
      "source": [
        "**TO DO** Copy the code from the last 2 cells above in the cell below and repeat the training with 10000 iterations. "
      ]
    },
    {
      "cell_type": "code",
      "execution_count": null,
      "metadata": {
        "jupyter": {
          "outputs_hidden": true
        },
        "id": "S2y3zzJk43Ce",
        "outputId": "47caefe7-c8ea-4889-af28-0e55ffec4dbc"
      },
      "outputs": [
        {
          "name": "stdout",
          "output_type": "stream",
          "text": [
            "[  15680.           84870.54000007 -161316.93999996   -4408.92\n",
            "   26464.5         131157.           85243.64999998  156318.44000005\n",
            "    -875.24         79311.16999998 -469919.92999993   62882.43800005\n",
            "  159537.4600001   -16195.        ]\n",
            "Training error with 10000 iterations: 0.21348314606741572\n",
            "Estimated true loss with 10000 iterations:0.2247191011235955\n"
          ]
        }
      ],
      "source": [
        "#now run the perceptron for 10000 iterations here!\n",
        "\n",
        "w_found, training_error = perceptron(X_training,Y_training, 10000)\n",
        "print(w_found)\n",
        "\n",
        "#training_error = error on the training set\n",
        "print(\"Training error with 10000 iterations: \"+str(training_error))\n",
        "\n",
        "#num_errors = number of errors in the test set\n",
        "num_errors = 0.\n",
        "\n",
        "for i in range(m_test):\n",
        "    if Y_test[i]*np.dot(w_found,X_test[i])<=0:\n",
        "        num_errors+=1\n",
        "\n",
        "true_loss_estimate = num_errors/m_test\n",
        "\n",
        "#NOTE: you can avoid using num_errors if you prefer, as long as true_loss_estimate is correct\n",
        "print(\"Estimated true loss with 10000 iterations:\"+str(true_loss_estimate))"
      ]
    },
    {
      "cell_type": "markdown",
      "metadata": {
        "id": "-4eoSuYD43Cf"
      },
      "source": [
        "Now the Estimated true loss is a little bit greater than the Training error and both are less than before.\n",
        "This means that using 10e5 iterations allow us to have a better W than before avoiding overfitting.\n"
      ]
    },
    {
      "cell_type": "markdown",
      "metadata": {
        "id": "BXEtjU4943Cf"
      },
      "source": [
        "# Logistic Regression\n",
        "Now we use logistic regression, as implemented in Scikit-learn, to predict labels. We first do it for 2 labels and then for 3 labels. We will also plot the decision region of logistic regression.\n",
        "\n",
        "We first load the dataset again."
      ]
    },
    {
      "cell_type": "code",
      "execution_count": null,
      "metadata": {
        "jupyter": {
          "outputs_hidden": true
        },
        "id": "jqgPniUr43Cf"
      },
      "outputs": [],
      "source": [
        "# Load the dataset from scikit learn\n",
        "wine = datasets.load_wine()\n",
        "\n",
        "m = wine.data.shape[0]\n",
        "permutation = np.random.permutation(m)\n",
        "\n",
        "X = wine.data[permutation]\n",
        "Y = wine.target[permutation]"
      ]
    },
    {
      "cell_type": "markdown",
      "metadata": {
        "id": "h7vibINV43Cg"
      },
      "source": [
        "As for the previous part, divide the data into training and test (50%-50%), relabel classes 0 and 2 as -1. Here there is no need to add a 1 at the beginning of each row, since it will be done automatically by the function we will use."
      ]
    },
    {
      "cell_type": "code",
      "execution_count": null,
      "metadata": {
        "jupyter": {
          "outputs_hidden": true
        },
        "id": "kIbbxq6F43Cg",
        "outputId": "6a82c3a7-7deb-469f-8a60-a0b6813bbc87"
      },
      "outputs": [
        {
          "name": "stdout",
          "output_type": "stream",
          "text": [
            "[-1 -1  1  1  1  1  1  1 -1 -1  1  1  1 -1  1  1 -1 -1 -1 -1 -1 -1 -1 -1\n",
            " -1 -1 -1 -1 -1 -1 -1  1 -1  1 -1 -1  1 -1 -1  1 -1 -1  1  1 -1 -1 -1  1\n",
            " -1 -1  1  1  1 -1 -1  1  1  1  1 -1  1 -1 -1 -1 -1 -1 -1  1 -1 -1 -1 -1\n",
            " -1  1  1 -1 -1 -1 -1 -1  1  1 -1  1 -1 -1 -1 -1 -1]\n",
            "Number of element from class 1:  32 \n",
            "Number of element from class 2:  57 \n",
            "Number of extra Permutation done:  0\n"
          ]
        }
      ],
      "source": [
        "#Divide in training and test: make sure that your training set\n",
        "#contains at least 10 elements from class 1 and at least 10 elements\n",
        "#from class -1! If it does not, modify the code so to apply more random\n",
        "#permutations (or the same permutation multiple times) until this happens.\n",
        "#IMPORTANT: do not change the random seed.\n",
        "\n",
        "for i in range(len(Y)):\n",
        "    if Y[i] != 1:\n",
        "        Y[i] = -1\n",
        "        \n",
        "#m_training needs to be the number of samples in the training set\n",
        "m_training = int(m/2)\n",
        "\n",
        "#m_test needs to be the number of samples in the test set\n",
        "m_test = m-m_training\n",
        "\n",
        "num_elem_class1=0;\n",
        "iteration=0\n",
        "while num_elem_class1<10 or num_elem_class1>(m_training -10):\n",
        "    if iteration>0:\n",
        "        X = X[permutation]\n",
        "        Y = Y[permutation]\n",
        "    #X_training = instances for training set\n",
        "    X_training = X[:m_training,:]\n",
        "    #Y_training = labels for the training set\n",
        "    Y_training = Y[:m_training]\n",
        "    #X_test = instances for test set\n",
        "    X_test = X[m_test:,:]\n",
        "    #Y_test = labels for the test set\n",
        "    Y_test = Y[m_test:]\n",
        "    iteration+=1\n",
        "    num_elem_class1=np.count_nonzero(Y_training==1)\n",
        "\n",
        "print(Y_training) #to make sure that Y_training contains both 1 and -1\n",
        "print(\"Number of element from class 1: \",num_elem_class1,\"\\nNumber of element from class 2: \",m_training-num_elem_class1,\"\\nNumber of extra Permutation done: \",iteration-1)"
      ]
    },
    {
      "cell_type": "markdown",
      "metadata": {
        "id": "7XainOmC43Cg"
      },
      "source": [
        "To define a logistic regression model in Scikit-learn use the instruction\n",
        "\n",
        "$linear\\_model.LogisticRegression(C=1e5)$\n",
        "\n",
        "($C$ is a parameter related to *regularization*, a technique that\n",
        "we will see later in the course. Setting it to a high value is almost\n",
        "as ignoring regularization, so the instruction above corresponds to the\n",
        "logistic regression you have seen in class.)\n",
        "\n",
        "To learn the model you need to use the $fit(...)$ instruction and to predict you need to use the $predict(...)$ function. See the Scikit-learn documentation for how to use it.\n",
        "\n",
        "Define the logistic regression model, then learn the model using the training set and predict on the test set. Then print the fraction of samples missclassified in the training set and in the test set."
      ]
    },
    {
      "cell_type": "code",
      "execution_count": null,
      "metadata": {
        "jupyter": {
          "outputs_hidden": true
        },
        "id": "WM2fUOIF43Cg",
        "outputId": "40bb5de3-5eec-4aeb-88da-18a0bd1e5c79"
      },
      "outputs": [
        {
          "name": "stdout",
          "output_type": "stream",
          "text": [
            "Error rate on training set: 0.0\n",
            "Error rate on test set: 0.056179775280898875\n"
          ]
        }
      ],
      "source": [
        "scaler = preprocessing.StandardScaler().fit(X_training)\n",
        "X_training = scaler.transform(X_training)\n",
        "X_test =scaler.transform(X_test)\n",
        "\n",
        "#part on logistic regression for 2 classes\n",
        "logreg = linear_model.LogisticRegression(C=1e5)\n",
        "\n",
        "#learn from training set\n",
        "logreg.fit(X_training,Y_training)\n",
        "\n",
        "#predict on training set\n",
        "Y_train_predicted=logreg.predict(X_training)\n",
        "\n",
        "error_rate_training=np.count_nonzero(Y_train_predicted*Y_training<0)/m_training\n",
        "#print the error rate = fraction of missclassified samples\n",
        "print(\"Error rate on training set: \"+str(error_rate_training))\n",
        "\n",
        "#predict on test set\n",
        "Y_test_predicted=logreg.predict(X_test)\n",
        "\n",
        "#print the error rate = fraction of missclassified samples\n",
        "error_rate_test=np.count_nonzero(Y_test_predicted*Y_test<0)/m_test\n",
        "print(\"Error rate on test set: \"+str(error_rate_test))"
      ]
    },
    {
      "cell_type": "markdown",
      "metadata": {
        "id": "pSxInPri43Ch"
      },
      "source": [
        "Now we do logistic regression for classification with 3 classes.\n",
        "\n",
        "First: let's load the data once again (with the same permutation from before)."
      ]
    },
    {
      "cell_type": "code",
      "execution_count": null,
      "metadata": {
        "jupyter": {
          "outputs_hidden": true
        },
        "scrolled": true,
        "id": "q8eQ_b2q43Ch",
        "outputId": "d0c72724-0423-47bb-ade3-6cb02d8c9e6c"
      },
      "outputs": [
        {
          "name": "stdout",
          "output_type": "stream",
          "text": [
            "[0 0 1 1 1 1 1 1 2 2 1 1 1 2 1 1 0 0 2 2 0 0 2 0 0 2 2 0 2 0 2 1 0 1 0 2 1\n",
            " 0 0 1 0 0 1 1 0 0 0 1 0 2 1 1 1 0 0 1 1 1 1 0 1 2 0 0 2 2 0 1 0 0 2 0 0 1\n",
            " 1 0 2 2 2 2 1 1 2 1 0 0 2 0 2]\n",
            "Number of element from class 1:  32 \n",
            "Number of element from class 2:  23 \n",
            "Number of element from class 3:  34 \n",
            "Number of extra Permutation done:  0\n"
          ]
        }
      ],
      "source": [
        "#part on logistic regression for 3 classes\n",
        "#Divide in training and test: make sure that your training set\n",
        "#contains at least 10 elements from each of the 3 classes!\n",
        "#If it does not, modify the code so to apply more random\n",
        "#permutations (or the same permutation multiple times) until this happens.\n",
        "#IMPORTANT: do not change the random seed.\n",
        "X = wine.data[permutation]\n",
        "Y = wine.target[permutation]\n",
        "\n",
        "#m_training needs to be the number of samples in the training set\n",
        "m_training = int(m/2)\n",
        "\n",
        "#m_test needs to be the number of samples in the test set\n",
        "m_test = m-m_training\n",
        "\n",
        "num_elem_class1=num_elem_class2=0;\n",
        "iteration=0\n",
        "while num_elem_class1<10 or num_elem_class2<10 or (m_training -10)<(num_elem_class1+num_elem_class2):\n",
        "    if iteration>0:\n",
        "        X = X[permutation]\n",
        "        Y = Y[permutation]\n",
        "    #X_training = instances for training set\n",
        "    X_training = X[:m_training,:]\n",
        "    #Y_training = labels for the training set\n",
        "    Y_training = Y[:m_training]\n",
        "    #X_test = instances for test set\n",
        "    X_test = X[m_test:,:]\n",
        "    #Y_test = labels for the test set\n",
        "    Y_test = Y[m_test:]\n",
        "    iteration+=1\n",
        "    num_elem_class1=np.count_nonzero(Y_training==1)\n",
        "    num_elem_class2=np.count_nonzero(Y_training==2)\n",
        "    \n",
        "print(Y_training) #to make sure that Y_training contains both 1 and -1\n",
        "print(\"Number of element from class 1: \",num_elem_class1,\"\\nNumber of element from class 2: \",num_elem_class2,\"\\nNumber of element from class 3: \",m_training-num_elem_class1-num_elem_class2,\"\\nNumber of extra Permutation done: \",iteration-1)"
      ]
    },
    {
      "cell_type": "markdown",
      "metadata": {
        "id": "PVAhBo_q43Ch"
      },
      "source": [
        "**TO DO** Now perform logistic regression (instructions as before) for 3 classes, learning a model from the training set and predicting on the test set. Print the fraction of missclassified samples on the training set and the fraction of missclassified samples on the test set."
      ]
    },
    {
      "cell_type": "code",
      "execution_count": null,
      "metadata": {
        "jupyter": {
          "outputs_hidden": true
        },
        "id": "SsGmRIyw43Ci",
        "outputId": "68b67564-477d-4c39-9166-3abbeadcc208"
      },
      "outputs": [
        {
          "name": "stdout",
          "output_type": "stream",
          "text": [
            "Error rate on training set: 0.0\n",
            "Error rate on test set: 0.056179775280898875\n",
            "[[ 2.8586091   1.10380231  1.52290945 -1.7385881   1.6334427   0.99767725\n",
            "   1.41830737 -0.19186847 -0.25109334  0.17295323 -0.37103715  2.7817225\n",
            "   4.57232343]\n",
            " [-3.97226699 -1.46996953 -1.62943567  1.1658311  -0.93811309 -1.59701028\n",
            "   0.92968253 -0.3329637   1.65402821 -2.9644227   2.39377896 -0.01682723\n",
            "  -4.28647922]\n",
            " [ 1.11365789  0.36616722  0.10652623  0.572757   -0.69532961  0.59933302\n",
            "  -2.3479899   0.52483217 -1.40293487  2.79146948 -2.02274181 -2.76489527\n",
            "  -0.28584421]]\n"
          ]
        }
      ],
      "source": [
        "scaler = preprocessing.StandardScaler().fit(X_training)\n",
        "X_training = scaler.transform(X_training)\n",
        "X_test =scaler.transform(X_test)\n",
        "#part on logistic regression for 3 classes\n",
        "logreg = linear_model.LogisticRegression(C=1e5)\n",
        "\n",
        "#learn from training set\n",
        "logreg.fit(X_training,Y_training)\n",
        "\n",
        "#predict on training set\n",
        "Y_train_predicted=logreg.predict(X_training)\n",
        "\n",
        "error_rate_training=np.count_nonzero(Y_train_predicted!=Y_training)/m_training\n",
        "\n",
        "#print the error rate = fraction of missclassified samples\n",
        "print(\"Error rate on training set: \"+str(error_rate_training))\n",
        "\n",
        "#predict on test set\n",
        "Y_test_predicted=logreg.predict(X_test)\n",
        "\n",
        "error_rate_test=np.count_nonzero(Y_test_predicted!=Y_test)/m_test\n",
        "#print the error rate = fraction of missclassified samples\n",
        "print(\"Error rate on test set: \"+str(error_rate_test))\n",
        "print(logreg.coef_)"
      ]
    },
    {
      "cell_type": "markdown",
      "metadata": {
        "id": "ZZcAWeuJ43Ci"
      },
      "source": [
        "Now pick two features and restrict the dataset to include only two features, whose indices are specified in the $feature$ vector below. Then split into training and test."
      ]
    },
    {
      "cell_type": "code",
      "execution_count": null,
      "metadata": {
        "jupyter": {
          "outputs_hidden": true
        },
        "id": "_cdoFy-743Ci"
      },
      "outputs": [],
      "source": [
        "#to make the plot we need to reduce the data to 2D, so we choose two features\n",
        "\n",
        "features_list = ['Alcohol',\n",
        "'Malic acid',\n",
        "'Ash',\n",
        "'Alcalinity of ash',\n",
        "'Magnesium',\n",
        "'Total phenols',\n",
        "'Flavanoids',\n",
        "'Nonflavanoid phenols',\n",
        "'Proanthocyanins',\n",
        "'Color intensity',\n",
        "'Hue',\n",
        "'OD280/OD315 of diluted wines',\n",
        "'Proline']\n",
        "labels_list = ['class_0', 'class_1', 'class_2']\n",
        "\n",
        "index_feature1 = 1\n",
        "index_feature2 = 2\n",
        "features = [index_feature1, index_feature2]\n",
        "\n",
        "feature_name0 = features_list[features[0]]\n",
        "feature_name1 = features_list[features[1]]\n",
        "\n",
        "#X_red is X reduced to include only the 2 features of\n",
        "#indices index_feature1 and index_feature2\n",
        "X_red = X[:,features]\n",
        "\n",
        "X_red_training = X_red[:m_training,:]\n",
        "Y_training = Y[:m_training]\n",
        "\n",
        "X_red_test =X_red[m_test:,:]\n",
        "Y_test =  Y[m_test:]"
      ]
    },
    {
      "cell_type": "markdown",
      "metadata": {
        "id": "zSNwZ9wz43Cj"
      },
      "source": [
        "Now learn a model using the training data."
      ]
    },
    {
      "cell_type": "code",
      "execution_count": null,
      "metadata": {
        "jupyter": {
          "outputs_hidden": true
        },
        "id": "iv0MEWtA43Cj",
        "outputId": "4c02007f-a7fa-4080-f134-2544a20f8659"
      },
      "outputs": [
        {
          "data": {
            "text/plain": [
              "LogisticRegression(C=100000.0)"
            ]
          },
          "execution_count": 62,
          "metadata": {},
          "output_type": "execute_result"
        }
      ],
      "source": [
        "#ADD CODE! (only for learning from training data)\n",
        "logreg = linear_model.LogisticRegression(C=1e5)\n",
        "\n",
        "#learn from training set\n",
        "logreg.fit(X_red_training,Y_training)\n"
      ]
    },
    {
      "cell_type": "markdown",
      "metadata": {
        "id": "LJCoIZ6s43Cj"
      },
      "source": [
        "If everything is ok, the code below uses the model in $logreg$ to plot the decision region for the two features chosen above, with colors denoting the predicted value. It also plots the points (with correct labels) in the training set. It makes a similar plot for the test set."
      ]
    },
    {
      "cell_type": "code",
      "execution_count": null,
      "metadata": {
        "jupyter": {
          "outputs_hidden": true
        },
        "id": "_xlWiNuL43Cj",
        "outputId": "8dc6c75d-d336-40e9-be4a-7ca4ba8b2945"
      },
      "outputs": [
        {
          "data": {
            "image/png": "[encoded data removed]",
            "text/plain": [
              "<Figure size 288x216 with 1 Axes>"
            ]
          },
          "metadata": {},
          "output_type": "display_data"
        },
        {
          "data": {
            "image/png": "[encoded data removed]",
            "text/plain": [
              "<Figure size 288x216 with 1 Axes>"
            ]
          },
          "metadata": {},
          "output_type": "display_data"
        }
      ],
      "source": [
        "# Plot the decision boundary. For that, we will assign a color to each\n",
        "# point in the mesh [x_min, x_max]x[y_min, y_max].\n",
        "h = .02  # step size in the mesh\n",
        "x_min, x_max = X_red[:, 0].min() - .5, X_red[:, 0].max() + .5\n",
        "y_min, y_max = X_red[:, 1].min() - .5, X_red[:, 1].max() + .5\n",
        "xx, yy = np.meshgrid(np.arange(x_min, x_max, h), np.arange(y_min, y_max, h))\n",
        "\n",
        "Z = logreg.predict(np.c_[xx.ravel(), yy.ravel()])\n",
        "\n",
        "# Put the result into a color plot\n",
        "Z = Z.reshape(xx.shape)\n",
        "\n",
        "plt.figure(1, figsize=(4, 3))\n",
        "plt.pcolormesh(xx, yy, Z, cmap=plt.cm.Paired)\n",
        "\n",
        "# Plot also the training points\n",
        "plt.scatter(X_red_training[:, 0], X_red_training[:, 1], c=Y_training, edgecolors='k', cmap=plt.cm.Paired)\n",
        "plt.xlabel(feature_name0)\n",
        "plt.ylabel(feature_name1)\n",
        "\n",
        "plt.xlim(xx.min(), xx.max())\n",
        "plt.ylim(yy.min(), yy.max())\n",
        "plt.xticks(())\n",
        "plt.yticks(())\n",
        "plt.title('Training set')\n",
        "\n",
        "plt.show()\n",
        "\n",
        "# Put the result into a color plot\n",
        "Z = Z.reshape(xx.shape)\n",
        "plt.figure(1, figsize=(4, 3))\n",
        "plt.pcolormesh(xx, yy, Z, cmap=plt.cm.Paired)\n",
        "\n",
        "# Plot also the test points \n",
        "plt.scatter(X_red_test[:, 0], X_red_test[:, 1], c=Y_test, edgecolors='k', cmap=plt.cm.Paired, marker='s')\n",
        "plt.xlabel(feature_name0)\n",
        "plt.ylabel(feature_name1)\n",
        "\n",
        "plt.xlim(xx.min(), xx.max())\n",
        "plt.ylim(yy.min(), yy.max())\n",
        "plt.xticks(())\n",
        "plt.yticks(())\n",
        "plt.title('Test set')\n",
        "\n",
        "plt.show()"
      ]
    },
    {
      "cell_type": "code",
      "execution_count": null,
      "metadata": {
        "jupyter": {
          "outputs_hidden": true
        },
        "id": "_ZOxaYyH43Ck"
      },
      "outputs": [],
      "source": [
        ""
      ]
    }
  ],
  "metadata": {
    "anaconda-cloud": {},
    "kernelspec": {
      "display_name": "Python 3",
      "language": "python",
      "name": "python3"
    },
    "language_info": {
      "codemirror_mode": {
        "name": "ipython",
        "version": 3
      },
      "file_extension": ".py",
      "mimetype": "text/x-python",
      "name": "python",
      "nbconvert_exporter": "python",
      "pygments_lexer": "ipython3",
      "version": "3.8.3"
    },
    "colab": {
      "name": "1_Classification_on_wine_dataset.ipynb",
      "provenance": [],
      "toc_visible": true
    }
  },
  "nbformat": 4,
  "nbformat_minor": 0
}