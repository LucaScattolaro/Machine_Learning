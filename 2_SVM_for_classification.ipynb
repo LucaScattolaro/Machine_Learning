{
  "cells": [
    {
      "cell_type": "markdown",
      "metadata": {
        "id": "OuufSylY_0dS"
      },
      "source": [
        "# SVM for classification, without and with kernels\n",
        "\n",
        "In this notebook we are going to explore the use of Support Vector Machines (SVMs) for image classification. We are going to use the famous MNIST dataset, that is a dataset of handwritten digits. We get the data from mldata.org, that is a public repository for machine learning data.\n",
        "\n",
        "The dataset consists of 70,000 images of handwritten digits (i.e., 0, 1, ... 9). Each image is 28 pixels by 28 pixels and we can think of it as a vector of 28x28 = 784 numbers. Each number is an integer between 0 and 255. For each image we have the corresponding label (i.e., 0, 1, ..., 9)."
      ]
    },
    {
      "cell_type": "code",
      "execution_count": null,
      "metadata": {
        "id": "qL8Keyad_0dZ"
      },
      "outputs": [],
      "source": [
        "#load the required packages\n",
        "%matplotlib inline  \n",
        "\n",
        "import numpy as np\n",
        "import matplotlib.pyplot as plt\n",
        "import sklearn\n",
        "from sklearn.datasets import fetch_openml"
      ]
    },
    {
      "cell_type": "code",
      "execution_count": null,
      "metadata": {
        "id": "R1hhWBN1_0db"
      },
      "outputs": [],
      "source": [
        "#fix your ID (\"numero di matricola\") and the seed for random generator\n",
        "ID = 2019157\n",
        "np.random.seed(ID)"
      ]
    },
    {
      "cell_type": "markdown",
      "metadata": {
        "id": "s6VTNeWE_0dc"
      },
      "source": [
        "Now let's load the dataset. 'data' contains the input, 'target' contains the label. We normalize the data by dividing each value by 255 so that each value is in [0,1]"
      ]
    },
    {
      "cell_type": "code",
      "execution_count": null,
      "metadata": {
        "id": "kTlestSc_0dd"
      },
      "outputs": [],
      "source": [
        "#load the MNIST dataset and let's normalize the features so that each value is in [0,1]\n",
        "mnist = fetch_openml('mnist_784', version=1)\n",
        "# rescale the data\n",
        "X, y = mnist.data / 255., mnist.target"
      ]
    },
    {
      "cell_type": "markdown",
      "metadata": {
        "id": "Rr6vgnVH_0dd"
      },
      "source": [
        "Now split into training and test. We keep 500 samples in the training set. Make sure that each label is present at least 10 times\n",
        "in training. If it is not, then keep adding permutations to the initial data until this \n",
        "happens.\n",
        "\n",
        "**IMPORTANT**: if you cannot run the SVM with 500 samples or 1000 samples (see below), try with a smaller number of samples (e.g. 200 here and 400 below)."
      ]
    },
    {
      "cell_type": "code",
      "execution_count": null,
      "metadata": {
        "id": "ga_6DW08_0de",
        "outputId": "b02de5c2-663c-4374-8979-404b4cb39078"
      },
      "outputs": [
        {
          "name": "stdout",
          "output_type": "stream",
          "text": [
            "Labels and frequencies in training dataset: \n",
            "label:  ['0' '1' '2' '3' '4' '5' '6' '7' '8' '9'] \n",
            "counter:  [57 57 40 46 52 46 50 50 50 52]\n"
          ]
        }
      ],
      "source": [
        "#random permute the data and split into training and test taking the first 500\n",
        "#data samples as training and the rests as test\n",
        "repeat=1\n",
        "while repeat:\n",
        "    permutation = np.random.permutation(X.shape[0])\n",
        "\n",
        "    X = X[permutation]\n",
        "    y = y[permutation]\n",
        "\n",
        "    m_training = 500\n",
        "\n",
        "    X_train, X_test = X[:m_training], X[m_training:]\n",
        "    y_train, y_test = y[:m_training], y[m_training:]\n",
        "\n",
        "    print(\"Labels and frequencies in training dataset: \")\n",
        "    label,counter=np.unique(y_train, return_counts = True)\n",
        "    print(\"label: \",label,\"\\ncounter: \",counter)\n",
        "    repeat=np.count_nonzero(counter<10)"
      ]
    },
    {
      "cell_type": "markdown",
      "metadata": {
        "id": "k7H2YSRL_0dg"
      },
      "source": [
        "We now provide a function to print an image in a dataset, the corresponding true label, and the index of the image in the dataset."
      ]
    },
    {
      "cell_type": "code",
      "execution_count": null,
      "metadata": {
        "id": "4maQXRxW_0dh"
      },
      "outputs": [],
      "source": [
        "#function for plotting a digit and printing the corresponding labe\n",
        "def plot_digit(X_matrix, labels, index):\n",
        "    print(\"INPUT:\")\n",
        "    plt.imshow(\n",
        "        X_matrix[index].reshape(28,28),\n",
        "        cmap          = plt.cm.gray_r,\n",
        "        interpolation = \"nearest\"\n",
        "    )\n",
        "    plt.show()\n",
        "    print(\"LABEL: %s\" % labels[index])\n",
        "    return"
      ]
    },
    {
      "cell_type": "markdown",
      "metadata": {
        "id": "pif7zr9N_0di"
      },
      "source": [
        "As an example, let's print the 100-th image in X_train and the 40,000-th image in X_test and their true labels."
      ]
    },
    {
      "cell_type": "code",
      "execution_count": null,
      "metadata": {
        "id": "EDwj1KsA_0di",
        "outputId": "1e1ca696-000b-4056-c750-3fd0570531ac"
      },
      "outputs": [
        {
          "name": "stdout",
          "output_type": "stream",
          "text": [
            "INPUT:\n"
          ]
        },
        {
          "data": {
            "image/png": "[encoded data removed]",
            "text/plain": [
              "<Figure size 432x288 with 1 Axes>"
            ]
          },
          "metadata": {
            "needs_background": "light"
          },
          "output_type": "display_data"
        },
        {
          "name": "stdout",
          "output_type": "stream",
          "text": [
            "LABEL: 8\n",
            "INPUT:\n"
          ]
        },
        {
          "data": {
            "image/png": "[encoded data removed]",
            "text/plain": [
              "<Figure size 432x288 with 1 Axes>"
            ]
          },
          "metadata": {
            "needs_background": "light"
          },
          "output_type": "display_data"
        },
        {
          "name": "stdout",
          "output_type": "stream",
          "text": [
            "LABEL: 9\n"
          ]
        }
      ],
      "source": [
        "#let's try the plotting function\n",
        "plot_digit(X_train,y_train,100)\n",
        "plot_digit(X_test,y_test,40000)"
      ]
    },
    {
      "cell_type": "markdown",
      "metadata": {
        "id": "9CSv56tb_0dj"
      },
      "source": [
        "## Exercize 1\n",
        "Run SVM with cross validation to pick a kernel and values of parameters. Use a 5-fold cross-validation to pick the best kernel and choice of parameters. We provide some potential choice for parameters, but change the grid if needed (e.g., it takes too long). For the SVM for classification use SVC from sklearn.svm; for the grid search we suggest you use GridSearchCV from sklearn.model_selection, but you can implement your own cross-validation for model selection if you prefer.\n",
        "\n",
        "Print the best parameters used as well as the score obtained by the best model"
      ]
    },
    {
      "cell_type": "code",
      "execution_count": null,
      "metadata": {
        "id": "jn_CCBTU_0dj"
      },
      "outputs": [],
      "source": [
        "#function to print a dictionary in a formatted way\n",
        "def print_dicitonary(dict1):\n",
        "    for name, score in dict1.items():\n",
        "        print(\"{:<20} {}\".format(name, score))\n",
        "    return"
      ]
    },
    {
      "cell_type": "code",
      "execution_count": null,
      "metadata": {
        "id": "Cb5t6ZZn_0dk",
        "outputId": "7dbb1be2-320e-4d8d-df82-65ebc0cf42ea"
      },
      "outputs": [
        {
          "name": "stdout",
          "output_type": "stream",
          "text": [
            "RESULTS FOR LINEAR KERNEL:\n",
            "Best parameters set found:  {'C': 1}\n",
            "Best estimator set found:  SVC(C=1, kernel='linear')\n",
            "Score with best parameters:  0.8639999999999999\n",
            "All scores on the grid:\n",
            "mean_fit_time        [0.09500294 0.08641005 0.08520517]\n",
            "std_fit_time         [0.00575674 0.0013541  0.00172032]\n",
            "mean_score_time      [0.02160192 0.02110338 0.02080493]\n",
            "std_score_time       [0.00101918 0.00066262 0.00039592]\n",
            "param_C              [1 10 100]\n",
            "params               [{'C': 1}, {'C': 10}, {'C': 100}]\n",
            "split0_test_score    [0.8 0.8 0.8]\n",
            "split1_test_score    [0.89 0.89 0.89]\n",
            "split2_test_score    [0.86 0.86 0.86]\n",
            "split3_test_score    [0.88 0.88 0.88]\n",
            "split4_test_score    [0.89 0.89 0.89]\n",
            "mean_test_score      [0.864 0.864 0.864]\n",
            "std_test_score       [0.03382307 0.03382307 0.03382307]\n",
            "rank_test_score      [1 1 1]\n",
            "\n",
            "\n",
            "RESULTS FOR POLY DEGREE=2 KERNEL:\n",
            "Best parameters set found:  {'C': 1, 'gamma': 0.1}\n",
            "Best estimator set found:  SVC(C=1, degree=2, gamma=0.1, kernel='poly')\n",
            "Score with best parameters:  0.8560000000000001\n",
            "All scores on the grid:\n",
            "mean_fit_time        [0.11856503 0.112012   0.11234832 0.11196785 0.11381149 0.11658998\n",
            " 0.11671014 0.11440954 0.111272  ]\n",
            "std_fit_time         [0.00731192 0.00424376 0.00654469 0.00329852 0.00406715 0.00612696\n",
            " 0.00371084 0.00392959 0.00703088]\n",
            "mean_score_time      [0.0229229  0.02020063 0.01972656 0.02357144 0.02020144 0.02060051\n",
            " 0.02060089 0.02020173 0.01953025]\n",
            "std_score_time       [0.00478331 0.00040048 0.00208616 0.00474448 0.00040019 0.00080005\n",
            " 0.00079982 0.000401   0.00199448]\n",
            "param_C              [1 1 1 10 10 10 100 100 100]\n",
            "param_gamma          [0.01 0.1 1.0 0.01 0.1 1.0 0.01 0.1 1.0]\n",
            "params               [{'C': 1, 'gamma': 0.01}, {'C': 1, 'gamma': 0.1}, {'C': 1, 'gamma': 1.0}, {'C': 10, 'gamma': 0.01}, {'C': 10, 'gamma': 0.1}, {'C': 10, 'gamma': 1.0}, {'C': 100, 'gamma': 0.01}, {'C': 100, 'gamma': 0.1}, {'C': 100, 'gamma': 1.0}]\n",
            "split0_test_score    [0.8 0.8 0.8 0.8 0.8 0.8 0.8 0.8 0.8]\n",
            "split1_test_score    [0.85 0.89 0.89 0.89 0.89 0.89 0.89 0.89 0.89]\n",
            "split2_test_score    [0.82 0.83 0.83 0.82 0.83 0.83 0.83 0.83 0.83]\n",
            "split3_test_score    [0.88 0.87 0.87 0.87 0.87 0.87 0.87 0.87 0.87]\n",
            "split4_test_score    [0.8  0.89 0.89 0.88 0.89 0.89 0.89 0.89 0.89]\n",
            "mean_test_score      [0.83  0.856 0.856 0.852 0.856 0.856 0.856 0.856 0.856]\n",
            "std_test_score       [0.03098387 0.03555278 0.03555278 0.03544009 0.03555278 0.03555278\n",
            " 0.03555278 0.03555278 0.03555278]\n",
            "rank_test_score      [9 1 1 8 1 1 1 1 1]\n",
            "\n",
            "\n",
            "RESULTS FOR rbf KERNEL:\n",
            "Best parameters set found:  {'C': 10, 'gamma': 0.01}\n",
            "Best estimator set found:  SVC(C=10, gamma=0.01)\n",
            "Score with best parameters:  0.9019999999999999\n",
            "All scores on the grid:\n",
            "mean_fit_time        [0.13845673 0.21047325 0.210326   0.15748258 0.20981622 0.20772905\n",
            " 0.15761065 0.22343745 0.20807757]\n",
            "std_fit_time         [0.00262341 0.00433554 0.00398646 0.0042362  0.00132651 0.0066089\n",
            " 0.00326282 0.00583657 0.00713356]\n",
            "mean_score_time      [0.02562361 0.02678037 0.02779999 0.02500272 0.02820234 0.03000946\n",
            " 0.02560234 0.03000197 0.02905273]\n",
            "std_score_time       [5.09116589e-04 5.64154146e-03 4.02523453e-04 1.03375833e-06\n",
            " 3.99808050e-04 1.74764921e-03 1.35584814e-03 1.41350488e-03\n",
            " 1.19188875e-03]\n",
            "param_C              [1 1 1 10 10 10 100 100 100]\n",
            "param_gamma          [0.01 0.1 1.0 0.01 0.1 1.0 0.01 0.1 1.0]\n",
            "params               [{'C': 1, 'gamma': 0.01}, {'C': 1, 'gamma': 0.1}, {'C': 1, 'gamma': 1.0}, {'C': 10, 'gamma': 0.01}, {'C': 10, 'gamma': 0.1}, {'C': 10, 'gamma': 1.0}, {'C': 100, 'gamma': 0.01}, {'C': 100, 'gamma': 0.1}, {'C': 100, 'gamma': 1.0}]\n",
            "split0_test_score    [0.85 0.4  0.11 0.84 0.45 0.11 0.84 0.45 0.11]\n",
            "split1_test_score    [0.92 0.52 0.13 0.92 0.57 0.14 0.92 0.57 0.14]\n",
            "split2_test_score    [0.85 0.49 0.11 0.89 0.54 0.11 0.89 0.54 0.11]\n",
            "split3_test_score    [0.89 0.39 0.13 0.94 0.43 0.13 0.94 0.43 0.13]\n",
            "split4_test_score    [0.88 0.36 0.16 0.92 0.39 0.16 0.92 0.39 0.16]\n",
            "mean_test_score      [0.878 0.432 0.128 0.902 0.476 0.13  0.902 0.476 0.13 ]\n",
            "std_test_score       [0.02638181 0.06177378 0.0183303  0.03487119 0.068      0.01897367\n",
            " 0.03487119 0.068      0.01897367]\n",
            "rank_test_score      [3 6 9 1 4 7 1 4 7]\n"
          ]
        }
      ],
      "source": [
        "#import SVC\n",
        "from sklearn.svm import SVC\n",
        "#import for Cross-Validation\n",
        "from sklearn.model_selection import GridSearchCV\n",
        "\n",
        "# parameters for linear SVM\n",
        "parameters = {'C': [1, 10, 100]}\n",
        "\n",
        "#run linear SVM\n",
        "linear_SVM = SVC(kernel='linear')\n",
        "\n",
        "#find best model uusing 5-fold CV and train it using all the training data\n",
        "clf_lin = GridSearchCV(linear_SVM, parameters,cv=5)\n",
        "clf_lin.fit(X_train, y_train)\n",
        "\n",
        "print ('RESULTS FOR LINEAR KERNEL:')\n",
        "print(\"Best parameters set found: \",clf_lin.best_params_)\n",
        "print(\"Best estimator set found: \",clf_lin.best_estimator_)\n",
        "print(\"Score with best parameters: \",clf_lin.best_score_)\n",
        "print(\"All scores on the grid:\")\n",
        "print_dicitonary(clf_lin.cv_results_)\n",
        "\n",
        "\n",
        "# parameters for poly with degree 2 kernel\n",
        "parameters = {'C': [1, 10, 100],'gamma':[0.01,0.1,1.]}\n",
        "\n",
        "#run SVM with poly of degree 2 kernel\n",
        "poly2_SVM = SVC(kernel='poly',degree=2)\n",
        "\n",
        "# ADD CODE: DO THE SAME AS ABOVE FOR POLYNOMIAL KERNEL WITH DEGREE=2\n",
        "clf_pol = GridSearchCV(poly2_SVM, parameters,cv=5)\n",
        "clf_pol.fit(X_train, y_train)\n",
        "\n",
        "print ('\\n\\nRESULTS FOR POLY DEGREE=2 KERNEL:')\n",
        "print(\"Best parameters set found: \",clf_pol.best_params_)\n",
        "print(\"Best estimator set found: \",clf_pol.best_estimator_)\n",
        "print(\"Score with best parameters: \",clf_pol.best_score_)\n",
        "print(\"All scores on the grid:\")\n",
        "print_dicitonary(clf_pol.cv_results_)\n",
        "\n",
        "\n",
        "# parameters for rbf SVM\n",
        "parameters = {'C': [1, 10, 100],'gamma':[0.01,0.1,1.]}\n",
        "\n",
        "#run SVM with rbf kernel\n",
        "rbf_SVM = SVC(kernel='rbf')\n",
        "\n",
        "# ADD CODE: DO THE SAME AS ABOVE FOR RBF KERNEL\n",
        "clf_ker = GridSearchCV(rbf_SVM, parameters,cv=5)\n",
        "clf_ker.fit(X_train, y_train)\n",
        "\n",
        "print ('\\n\\nRESULTS FOR rbf KERNEL:')\n",
        "print(\"Best parameters set found: \",clf_ker.best_params_)\n",
        "print(\"Best estimator set found: \",clf_ker.best_estimator_)\n",
        "print(\"Score with best parameters: \",clf_ker.best_score_)\n",
        "print(\"All scores on the grid:\")\n",
        "print_dicitonary(clf_ker.cv_results_)"
      ]
    },
    {
      "cell_type": "markdown",
      "metadata": {
        "id": "_ahOopaa_0dl"
      },
      "source": [
        "## Exercize 2\n",
        "For the \"best\" SVM kernel and choice of parameters from above, train the model on the entire training set and measure the training error. Also make predictions on the test set and measure the test error. Print the training and the test error."
      ]
    },
    {
      "cell_type": "code",
      "execution_count": null,
      "metadata": {
        "id": "GyJ-_YZ7_0dm",
        "outputId": "a63bb7ba-7415-4ed2-dcd3-3b16d3544981"
      },
      "outputs": [
        {
          "name": "stdout",
          "output_type": "stream",
          "text": [
            "Best SVM training error: 0.000000\n",
            "Best SVM test error: 0.105338\n"
          ]
        }
      ],
      "source": [
        "#get training and test error for the best SVM model from CV\n",
        "#looking to the results above the best SVM is the rbf Kernel with those parameters\n",
        "best_SVM = SVC(C=10,kernel='rbf',gamma=0.01)\n",
        "\n",
        "# fit the model on the entire training set\n",
        "best_SVM.fit(X_train, y_train)\n",
        "\n",
        "#get the training and test error\n",
        "training_error = 1. - best_SVM.score(X_train,y_train)\n",
        "test_error = 1. - best_SVM.score(X_test,y_test)\n",
        "\n",
        "print (\"Best SVM training error: %f\" % training_error)\n",
        "print (\"Best SVM test error: %f\" % test_error)\n"
      ]
    },
    {
      "cell_type": "markdown",
      "metadata": {
        "id": "_5GN2bIJ_0dn"
      },
      "source": [
        "## Use logistic regression for comparison\n",
        "\n",
        "## Exercize 3\n",
        "\n",
        "Just for comparison let's also use logistic regression, first with the default values of the parameter for regularization and then with cross-validation to fix the value of the parameter. For cross validation, use 5-fold cross validation and the default values of the regularization parameters for the function linear_model.LogisticRegressionCV(...)"
      ]
    },
    {
      "cell_type": "code",
      "execution_count": null,
      "metadata": {
        "id": "VHIRqGnn_0dn",
        "outputId": "103778b9-0fb8-48b2-fc42-3deddde367d5"
      },
      "outputs": [
        {
          "name": "stdout",
          "output_type": "stream",
          "text": [
            "logistic regression training error: 0.000000\n",
            "logistic regression test error: 0.151151\n",
            "logistic regression CV training error: 0.000000\n",
            "logistic regression CV test error: 0.150633\n"
          ]
        }
      ],
      "source": [
        "from sklearn import linear_model\n",
        "\n",
        "lr = linear_model.LogisticRegression(max_iter=1000)\n",
        "# fit the model on the training data\n",
        "lr.fit(X_train, y_train)\n",
        "\n",
        "#compute training and test error for model above\n",
        "training_error = 1. - lr.score(X_train,y_train)\n",
        "test_error =1. -  lr.score(X_test,y_test)\n",
        "\n",
        "print (\"logistic regression training error: %f\" % training_error)\n",
        "print (\"logistic regression test error: %f\" % test_error)\n",
        "\n",
        "#logistic regression with 5-fold CV: you can use use linear_model.LogisticRegressionCV\n",
        "# use 5-fold CV to find the best choice of the parameter, than train\n",
        "# the model on the entire training set\n",
        "lr_cv = linear_model.LogisticRegressionCV(cv=5,max_iter=1000)\n",
        "lr_cv.fit(X_train, y_train)\n",
        "training_error_cv = 1. - lr_cv.score(X_train,y_train)\n",
        "test_error_cv = 1. - lr_cv.score(X_test,y_test)\n",
        "\n",
        "print (\"logistic regression CV training error: %f\" % training_error_cv)\n",
        "print (\"logistic regression CV test error: %f\" % test_error_cv)\n"
      ]
    },
    {
      "cell_type": "markdown",
      "metadata": {
        "id": "eOmn8dfJ_0do"
      },
      "source": [
        "As we can see from the results both of them have a Training error of 0.\n",
        "SVM performs better than the Logistic Regression.\n",
        "\n",
        "1. SVM test error:          0.105338\n",
        "2. logistic regression CV:  0.150633"
      ]
    },
    {
      "cell_type": "markdown",
      "metadata": {
        "id": "9hQsZzHV_0do"
      },
      "source": [
        "## Exercize 4\n",
        "Write the code that finds and plots a digit that is missclassified by logistic regression (optimized for the regularization parameter) and correctly classified by the \"best\" SVM."
      ]
    },
    {
      "cell_type": "code",
      "execution_count": null,
      "metadata": {
        "id": "vK3MKj6l_0do",
        "outputId": "fe129a07-a001-4577-971f-2a21c2d1bc87"
      },
      "outputs": [
        {
          "name": "stdout",
          "output_type": "stream",
          "text": [
            "Logistic Regression label missclassified:  0 \n",
            "SVM label correctly classified:  5\n",
            "Index:  40\n",
            "INPUT:\n"
          ]
        },
        {
          "data": {
            "image/png": "[encoded data removed]",
            "text/plain": [
              "<Figure size 432x288 with 1 Axes>"
            ]
          },
          "metadata": {
            "needs_background": "light"
          },
          "output_type": "display_data"
        },
        {
          "name": "stdout",
          "output_type": "stream",
          "text": [
            "LABEL: 5\n"
          ]
        }
      ],
      "source": [
        "#I search for a digit that is missclassified by logistic regression and correctly classified by the best SVM\n",
        "#in the test set beacuse both of them have a training error of 0\n",
        "y_test_predicted_lr=lr_cv.predict(X_test)\n",
        "y_test_predicted_bestSVM=best_SVM.predict(X_test)\n",
        "for i in range(0,len(y_test)):\n",
        "    if y_test_predicted_lr[i]!=y_test[i] :\n",
        "        if y_test_predicted_bestSVM[i]==y_test[i] :\n",
        "            print(\"Logistic Regression label missclassified: \",y_test_predicted_lr[i],\"\\nSVM label correctly classified: \",y_test_predicted_bestSVM[i])\n",
        "            print(\"Index: \",i)\n",
        "            plot_digit(X_test,y_test,i)\n",
        "            break"
      ]
    },
    {
      "cell_type": "markdown",
      "metadata": {
        "id": "L2G-SULT_0dp"
      },
      "source": [
        "## More data\n",
        "Now let's do the same but using 1000 data points for training. \n",
        "\n",
        "## Exercize 5\n",
        "Repeat the entire analysis above using 1000 samples. Of course you can copy the code from above."
      ]
    },
    {
      "cell_type": "code",
      "execution_count": null,
      "metadata": {
        "id": "yKueQsAG_0dp",
        "outputId": "f6137344-74f8-4616-921e-6ede2c638ce6"
      },
      "outputs": [
        {
          "name": "stdout",
          "output_type": "stream",
          "text": [
            "Labels and frequencies in training dataset: \n",
            "label:  ['0' '1' '2' '3' '4' '5' '6' '7' '8' '9'] \n",
            "counter:  [102 127  86  90  87  99 110 105  89 105]\n",
            "\n",
            "RESULTS FOR LINEAR KERNEL\n",
            "Best parameters set found:  {'C': 1}\n",
            "Best estimator set found:  SVC(C=1, kernel='linear')\n",
            "Score with best parameters:  0.89\n",
            "All scores on the grid:\n",
            "mean_fit_time        [0.23023152 0.23210201 0.22938066]\n",
            "std_fit_time         [0.00280248 0.00585703 0.00262303]\n",
            "mean_score_time      [0.06800437 0.06750708 0.06808434]\n",
            "std_score_time       [0.00126335 0.00289217 0.00121113]\n",
            "param_C              [1 10 100]\n",
            "params               [{'C': 1}, {'C': 10}, {'C': 100}]\n",
            "split0_test_score    [0.86 0.86 0.86]\n",
            "split1_test_score    [0.915 0.915 0.915]\n",
            "split2_test_score    [0.875 0.875 0.875]\n",
            "split3_test_score    [0.92 0.92 0.92]\n",
            "split4_test_score    [0.88 0.88 0.88]\n",
            "mean_test_score      [0.89 0.89 0.89]\n",
            "std_test_score       [0.02345208 0.02345208 0.02345208]\n",
            "rank_test_score      [1 1 1]\n",
            "\n",
            "\n",
            "RESULTS FOR POLY DEGREE=2 KERNEL\n",
            "Best parameters set found:  {'C': 1, 'gamma': 0.1}\n",
            "Best estimator set found:  SVC(C=1, degree=2, gamma=0.1, kernel='poly')\n",
            "Score with best parameters:  0.916\n",
            "All scores on the grid:\n",
            "mean_fit_time        [0.35018864 0.27803721 0.28871861 0.28085957 0.2794106  0.28252239\n",
            " 0.27639966 0.27991633 0.2758503 ]\n",
            "std_fit_time         [0.00338722 0.01411772 0.01090432 0.00640967 0.00842077 0.00570923\n",
            " 0.01031396 0.00654607 0.01326549]\n",
            "mean_score_time      [0.07861571 0.06850672 0.06810803 0.06398659 0.06610909 0.06680303\n",
            " 0.06630797 0.06610503 0.06665401]\n",
            "std_score_time       [0.0011043  0.00470768 0.00473411 0.00505417 0.00210269 0.00160138\n",
            " 0.00222068 0.00210221 0.00782536]\n",
            "param_C              [1 1 1 10 10 10 100 100 100]\n",
            "param_gamma          [0.01 0.1 1.0 0.01 0.1 1.0 0.01 0.1 1.0]\n",
            "params               [{'C': 1, 'gamma': 0.01}, {'C': 1, 'gamma': 0.1}, {'C': 1, 'gamma': 1.0}, {'C': 10, 'gamma': 0.01}, {'C': 10, 'gamma': 0.1}, {'C': 10, 'gamma': 1.0}, {'C': 100, 'gamma': 0.01}, {'C': 100, 'gamma': 0.1}, {'C': 100, 'gamma': 1.0}]\n",
            "split0_test_score    [0.89  0.895 0.895 0.895 0.895 0.895 0.895 0.895 0.895]\n",
            "split1_test_score    [0.89  0.925 0.925 0.925 0.925 0.925 0.925 0.925 0.925]\n",
            "split2_test_score    [0.85  0.91  0.91  0.905 0.91  0.91  0.91  0.91  0.91 ]\n",
            "split3_test_score    [0.92  0.925 0.925 0.925 0.925 0.925 0.925 0.925 0.925]\n",
            "split4_test_score    [0.895 0.925 0.925 0.93  0.925 0.925 0.925 0.925 0.925]\n",
            "mean_test_score      [0.889 0.916 0.916 0.916 0.916 0.916 0.916 0.916 0.916]\n",
            "std_test_score       [0.02244994 0.012      0.012      0.01356466 0.012      0.012\n",
            " 0.012      0.012      0.012     ]\n",
            "rank_test_score      [9 1 1 1 1 1 1 1 1]\n",
            "\n",
            "\n",
            "RESULTS FOR rbf KERNEL:\n",
            "Best parameters set found:  {'C': 10, 'gamma': 0.01}\n",
            "Best estimator set found:  SVC(C=10, gamma=0.01)\n",
            "Score with best parameters:  0.9289999999999999\n",
            "All scores on the grid:\n",
            "mean_fit_time        [0.36796975 0.81799116 0.81451998 0.36782327 0.80121226 0.82265949\n",
            " 0.37123165 0.80949621 0.8095293 ]\n",
            "std_fit_time         [0.00909113 0.03066834 0.00961498 0.01082767 0.00631773 0.0197499\n",
            " 0.0064817  0.00567538 0.00893461]\n",
            "mean_score_time      [0.08972673 0.11703005 0.11716523 0.08260159 0.11088223 0.11940908\n",
            " 0.0840723  0.11640811 0.1210897 ]\n",
            "std_score_time       [0.00499744 0.00210186 0.00427264 0.00149568 0.00345714 0.00355422\n",
            " 0.00121854 0.00049656 0.00461385]\n",
            "param_C              [1 1 1 10 10 10 100 100 100]\n",
            "param_gamma          [0.01 0.1 1.0 0.01 0.1 1.0 0.01 0.1 1.0]\n",
            "params               [{'C': 1, 'gamma': 0.01}, {'C': 1, 'gamma': 0.1}, {'C': 1, 'gamma': 1.0}, {'C': 10, 'gamma': 0.01}, {'C': 10, 'gamma': 0.1}, {'C': 10, 'gamma': 1.0}, {'C': 100, 'gamma': 0.01}, {'C': 100, 'gamma': 0.1}, {'C': 100, 'gamma': 1.0}]\n",
            "split0_test_score    [0.875 0.71  0.13  0.885 0.735 0.13  0.885 0.735 0.13 ]\n",
            "split1_test_score    [0.9   0.675 0.13  0.945 0.705 0.13  0.945 0.705 0.13 ]\n",
            "split2_test_score    [0.905 0.63  0.125 0.935 0.645 0.125 0.935 0.645 0.125]\n",
            "split3_test_score    [0.945 0.7   0.125 0.95  0.73  0.125 0.95  0.73  0.125]\n",
            "split4_test_score    [0.935 0.68  0.125 0.93  0.725 0.125 0.93  0.725 0.125]\n",
            "mean_test_score      [0.912 0.679 0.127 0.929 0.708 0.127 0.929 0.708 0.127]\n",
            "std_test_score       [0.02521904 0.02764055 0.00244949 0.02310844 0.03310589 0.00244949\n",
            " 0.02310844 0.03310589 0.00244949]\n",
            "rank_test_score      [3 6 7 1 4 7 1 4 7]\n",
            "Best SVM training error: 0.000000\n",
            "Best SVM test error: 0.078565\n",
            "logistic regression training error: 0.000000\n",
            "logistic regression test error: 0.130710\n",
            "logistic regression CV training error: 0.000000\n",
            "logistic regression CV test error: 0.136087\n",
            "Logistic Regression label missclassified:  6 \n",
            "SVM label correctly classified:  2\n",
            "Index:  17\n",
            "INPUT:\n"
          ]
        },
        {
          "data": {
            "image/png": "[encoded data removed]",
            "text/plain": [
              "<Figure size 432x288 with 1 Axes>"
            ]
          },
          "metadata": {
            "needs_background": "light"
          },
          "output_type": "display_data"
        },
        {
          "name": "stdout",
          "output_type": "stream",
          "text": [
            "LABEL: 2\n"
          ]
        }
      ],
      "source": [
        "#random permute the data and split into training and test taking the first 500\n",
        "#data samples as training and the rests as test\n",
        "#I use the same permutation to compare the results in abetter way\n",
        "m_training = 1000\n",
        "\n",
        "X_train, X_test = X[:m_training], X[m_training:]\n",
        "y_train, y_test = y[:m_training], y[m_training:]\n",
        "print(\"Labels and frequencies in training dataset: \")\n",
        "label,counter=np.unique(y_train, return_counts = True)\n",
        "print(\"label: \",label,\"\\ncounter: \",counter)    \n",
        "\n",
        "\n",
        "#TO DO 1\n",
        "# parameters for linear SVM\n",
        "parameters = {'C': [1, 10, 100]}\n",
        "#run linear SVM\n",
        "linear_SVM = SVC(kernel='linear')\n",
        "#find best model uusing 5-fold CV and train it using all the training data\n",
        "clf_lin = GridSearchCV(linear_SVM, parameters,cv=5)\n",
        "clf_lin.fit(X_train, y_train)\n",
        "\n",
        "print ('\\nRESULTS FOR LINEAR KERNEL')\n",
        "print(\"Best parameters set found: \",clf_lin.best_params_)\n",
        "print(\"Best estimator set found: \",clf_lin.best_estimator_)\n",
        "print(\"Score with best parameters: \",clf_lin.best_score_)\n",
        "print(\"All scores on the grid:\")\n",
        "print_dicitonary(clf_lin.cv_results_)\n",
        "\n",
        "\n",
        "# parameters for poly with degree 2 kernel\n",
        "parameters = {'C': [1, 10, 100],'gamma':[0.01,0.1,1.]}\n",
        "#run SVM with poly of degree 2 kernel\n",
        "poly2_SVM = SVC(kernel='poly',degree=2)\n",
        "#DO THE SAME AS ABOVE FOR POLYNOMIAL KERNEL WITH DEGREE=2\n",
        "clf_pol = GridSearchCV(poly2_SVM, parameters,cv=5)\n",
        "clf_pol.fit(X_train, y_train)\n",
        "\n",
        "print ('\\n\\nRESULTS FOR POLY DEGREE=2 KERNEL')\n",
        "print(\"Best parameters set found: \",clf_pol.best_params_)\n",
        "print(\"Best estimator set found: \",clf_pol.best_estimator_)\n",
        "print(\"Score with best parameters: \",clf_pol.best_score_)\n",
        "print(\"All scores on the grid:\")\n",
        "print_dicitonary(clf_pol.cv_results_)\n",
        "\n",
        "\n",
        "# parameters for rbf SVM\n",
        "parameters = {'C': [1, 10, 100],'gamma':[0.01,0.1,1.]}\n",
        "#run SVM with rbf kernel\n",
        "rbf_SVM = SVC(kernel='rbf')\n",
        "#DO THE SAME AS ABOVE FOR RBF KERNEL\n",
        "clf_ker = GridSearchCV(rbf_SVM, parameters,cv=5)\n",
        "clf_ker.fit(X_train, y_train)\n",
        "\n",
        "print ('\\n\\nRESULTS FOR rbf KERNEL:')\n",
        "print(\"Best parameters set found: \",clf_ker.best_params_)\n",
        "print(\"Best estimator set found: \",clf_ker.best_estimator_)\n",
        "print(\"Score with best parameters: \",clf_ker.best_score_)\n",
        "print(\"All scores on the grid:\")\n",
        "print_dicitonary(clf_ker.cv_results_)\n",
        "\n",
        "\n",
        "#TO DO 2\n",
        "#get training and test error for the best SVM model from CV\n",
        "best_SVM = SVC(C=10,kernel='rbf',gamma=0.01)\n",
        "# fit the model on the entire training set\n",
        "best_SVM.fit(X_train, y_train)\n",
        "#get the training and test error\n",
        "training_error = 1. - best_SVM.score(X_train,y_train)\n",
        "test_error = 1. - best_SVM.score(X_test,y_test)\n",
        "print (\"Best SVM training error: %f\" % training_error)\n",
        "print (\"Best SVM test error: %f\" % test_error)\n",
        "\n",
        "\n",
        "lr = linear_model.LogisticRegression(max_iter=1000)\n",
        "# fit the model on the training data\n",
        "lr.fit(X_train, y_train)\n",
        "#compute training and test error for model above\n",
        "training_error = 1. - lr.score(X_train,y_train)\n",
        "test_error =1. -  lr.score(X_test,y_test)\n",
        "print (\"logistic regression training error: %f\" % training_error)\n",
        "print (\"logistic regression test error: %f\" % test_error)\n",
        "\n",
        "#logistic regression with 5-fold CV: you can use use linear_model.LogisticRegressionCV\n",
        "# use 5-fold CV to find the best choice of the parameter, than train\n",
        "# the model on the entire training set\n",
        "lr_cv = linear_model.LogisticRegressionCV(cv=5,max_iter=1000)\n",
        "lr_cv.fit(X_train, y_train)\n",
        "training_error_cv = 1. - lr_cv.score(X_train,y_train)\n",
        "test_error_cv = 1. - lr_cv.score(X_test,y_test)\n",
        "print (\"logistic regression CV training error: %f\" % training_error_cv)\n",
        "print (\"logistic regression CV test error: %f\" % test_error_cv)\n",
        "\n",
        "#TO DO 4\n",
        "y_test_predicted_lr=lr_cv.predict(X_test)\n",
        "y_test_predicted_bestSVM=best_SVM.predict(X_test)\n",
        "for i in range(0,len(y_test)):\n",
        "    if y_test_predicted_lr[i]!=y_test[i] :\n",
        "        if y_test_predicted_bestSVM[i]==y_test[i] :\n",
        "            print(\"Logistic Regression label missclassified: \",y_test_predicted_lr[i],\"\\nSVM label correctly classified: \",y_test_predicted_bestSVM[i])\n",
        "            print(\"Index: \",i)\n",
        "            plot_digit(X_test,y_test,i)\n",
        "            break"
      ]
    },
    {
      "cell_type": "markdown",
      "metadata": {
        "id": "KrzquOmR_0dq"
      },
      "source": [
        "As we can see from the results they have a Training error of 0 again. SVM performs better than the Logistic Regression.\n",
        "Furthermore using more samples on training set they performs better than before on test set.\n",
        "As before the best SVM is the SVM with rbf kernel with the same best parameters as above.\n",
        "\n",
        "1. best SVW test error:     0.07856\n",
        "2. logistic regression CV:  0.13608"
      ]
    }
  ],
  "metadata": {
    "kernelspec": {
      "display_name": "Python 3",
      "language": "python",
      "name": "python3"
    },
    "language_info": {
      "codemirror_mode": {
        "name": "ipython",
        "version": 3
      },
      "file_extension": ".py",
      "mimetype": "text/x-python",
      "name": "python",
      "nbconvert_exporter": "python",
      "pygments_lexer": "ipython3",
      "version": "3.8.3"
    },
    "colab": {
      "name": "2_SVM_for_classification.ipynb",
      "provenance": [],
      "toc_visible": true
    }
  },
  "nbformat": 4,
  "nbformat_minor": 0
}