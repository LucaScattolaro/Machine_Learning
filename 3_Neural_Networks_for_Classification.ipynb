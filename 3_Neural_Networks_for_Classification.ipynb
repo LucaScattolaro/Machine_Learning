{
  "cells": [
    {
      "cell_type": "markdown",
      "metadata": {
        "id": "6IaYZAsXAtAY"
      },
      "source": [
        "# Neural Networks for Classification\n",
        "\n",
        "In this notebook we are going to explore the use of Neural Networks for image classification. We are going to use a dataset of small images of clothes and accessories, the Fashion MNIST. You can find more information regarding the dataset here: https://pravarmahajan.github.io/fashion/\n",
        "\n",
        "Each instance in the dataset consist of an image, in a format similar to the digit images you have seen in the previous homework, and a label. The labels correspond to the type of clothing, as follows:\n",
        "\n",
        "| Label | Description |\n",
        "| --- | --- |\n",
        "| 0 | T-shirt/top |\n",
        "| 1 | Trouser |\n",
        "| 2 | Pullover |\n",
        "| 3 | Dress |\n",
        "| 4 | Coat |\n",
        "| 5 | Sandal |\n",
        "| 6 | Shirt |\n",
        "| 7 | Sneaker |\n",
        "| 8 | Bag |\n",
        "| 9 | Ankle boot |"
      ]
    },
    {
      "cell_type": "markdown",
      "metadata": {
        "id": "zlfv_jEBAtAf"
      },
      "source": [
        "Let's first load the required packages."
      ]
    },
    {
      "cell_type": "code",
      "execution_count": null,
      "metadata": {
        "id": "pMtwWo08AtAf"
      },
      "outputs": [],
      "source": [
        "#load the required packages\n",
        "\n",
        "%matplotlib inline  \n",
        "\n",
        "import numpy as np\n",
        "import scipy as sp\n",
        "import matplotlib.pyplot as plt\n",
        "\n",
        "import sklearn\n",
        "from sklearn.neural_network import MLPClassifier\n",
        "from sklearn.model_selection import GridSearchCV"
      ]
    },
    {
      "cell_type": "markdown",
      "metadata": {
        "id": "Q_DWyAr6AtAh"
      },
      "source": [
        "The following is a function to load the data, that we are going to use later in the notebook."
      ]
    },
    {
      "cell_type": "code",
      "execution_count": null,
      "metadata": {
        "id": "quqRJ1-kAtAi"
      },
      "outputs": [],
      "source": [
        "# helper function to load Fashion MNIST dataset from disk\n",
        "def load_fashion_mnist(path, kind='train'):\n",
        "    import os\n",
        "    import gzip\n",
        "    import numpy as np\n",
        "    labels_path = os.path.join(path, '%s-labels-idx1-ubyte.gz' % kind)\n",
        "    images_path = os.path.join(path, '%s-images-idx3-ubyte.gz' % kind)\n",
        "    with gzip.open(labels_path, 'rb') as lbpath:\n",
        "        labels = np.frombuffer(lbpath.read(), dtype=np.uint8,offset=8)\n",
        "    with gzip.open(images_path, 'rb') as imgpath:\n",
        "        images = np.frombuffer(imgpath.read(), dtype=np.uint8,offset=16).reshape(len(labels), 784)\n",
        "    return images, labels"
      ]
    },
    {
      "cell_type": "markdown",
      "metadata": {
        "id": "8Kvt5EnPAtAj"
      },
      "source": [
        "University ID will be used as seed for random generator. Change the ID number in case you observe unexpected behaviours and want to test if this is due to randomization (e.g., train/test split). If you change the ID number explain why you have change it."
      ]
    },
    {
      "cell_type": "code",
      "execution_count": null,
      "metadata": {
        "id": "5xMUR1caAtAj"
      },
      "outputs": [],
      "source": [
        "ID = 2019157 #my university ID \n",
        "np.random.seed(ID)"
      ]
    },
    {
      "cell_type": "markdown",
      "metadata": {
        "id": "ksJBnqOfAtAk"
      },
      "source": [
        "Now we load the dataset using the function above."
      ]
    },
    {
      "cell_type": "code",
      "execution_count": null,
      "metadata": {
        "id": "Uidxwq99AtAl"
      },
      "outputs": [],
      "source": [
        "#load the fashion MNIST dataset and normalize the features so that each value is in [0,1]\n",
        "X, y = load_fashion_mnist(\"data\")\n",
        "# rescale the data\n",
        "X = X / 255.0"
      ]
    },
    {
      "cell_type": "markdown",
      "metadata": {
        "id": "QIR4kTysAtAl"
      },
      "source": [
        "Now we split the data into training and test. Make sure that each label is present at least 10 times\n",
        "in the training set."
      ]
    },
    {
      "cell_type": "code",
      "execution_count": null,
      "metadata": {
        "id": "O12qrtRYAtAm",
        "outputId": "bff250fa-5cc1-4501-9c0d-8c2f9322a994"
      },
      "outputs": [
        {
          "name": "stdout",
          "output_type": "stream",
          "text": [
            "Labels in training dataset:  [0 1 2 3 4 5 6 7 8 9]\n",
            "Frequencies in training dataset:  [46 53 53 46 49 62 55 44 51 41]\n"
          ]
        }
      ],
      "source": [
        "#random permute the data and split into training and test taking the first 500\n",
        "#data samples as training and the rest as test\n",
        "permutation = np.random.permutation(X.shape[0])\n",
        "\n",
        "X = X[permutation]\n",
        "y = y[permutation]\n",
        "\n",
        "m_training = 500\n",
        "\n",
        "X_train, X_test = X[:m_training], X[m_training:]\n",
        "y_train, y_test = y[:m_training], y[m_training:]\n",
        "\n",
        "labels, freqs = np.unique(y_train, return_counts=True)\n",
        "print(\"Labels in training dataset: \", labels)\n",
        "print(\"Frequencies in training dataset: \", freqs)\n"
      ]
    },
    {
      "cell_type": "markdown",
      "metadata": {
        "id": "GAX0slHbAtAn"
      },
      "source": [
        "The following function plots an image and the corresponding label, to be used to inspect the data when needed."
      ]
    },
    {
      "cell_type": "code",
      "execution_count": null,
      "metadata": {
        "id": "eKNfDUuqAtAo"
      },
      "outputs": [],
      "source": [
        "#function for plotting a image and printing the corresponding label\n",
        "def plot_input(X_matrix, labels, index):\n",
        "    print(\"INPUT:\")\n",
        "    plt.imshow(\n",
        "        X_matrix[index].reshape(28,28),\n",
        "        cmap          = plt.cm.gray_r,\n",
        "        interpolation = \"nearest\"\n",
        "    )\n",
        "    plt.show()\n",
        "    print(\"LABEL: %i\"%labels[index])\n",
        "    return"
      ]
    },
    {
      "cell_type": "markdown",
      "metadata": {
        "id": "rWd7HoC8AtAo"
      },
      "source": [
        "Now let's test the function above and check few images."
      ]
    },
    {
      "cell_type": "code",
      "execution_count": null,
      "metadata": {
        "id": "tYsZ_3Q2AtAp",
        "outputId": "fc15f2a9-ffdc-4070-bdd8-07370ff6f00d"
      },
      "outputs": [
        {
          "name": "stdout",
          "output_type": "stream",
          "text": [
            "INPUT:\n"
          ]
        },
        {
          "data": {
            "image/png": "[encoded data removed]",
            "text/plain": [
              "<Figure size 432x288 with 1 Axes>"
            ]
          },
          "metadata": {
            "needs_background": "light"
          },
          "output_type": "display_data"
        },
        {
          "name": "stdout",
          "output_type": "stream",
          "text": [
            "LABEL: 4\n",
            "INPUT:\n"
          ]
        },
        {
          "data": {
            "image/png": "[encoded data removed]",
            "text/plain": [
              "<Figure size 432x288 with 1 Axes>"
            ]
          },
          "metadata": {
            "needs_background": "light"
          },
          "output_type": "display_data"
        },
        {
          "name": "stdout",
          "output_type": "stream",
          "text": [
            "LABEL: 9\n",
            "INPUT:\n"
          ]
        },
        {
          "data": {
            "image/png": "[encoded data removed]",
            "text/plain": [
              "<Figure size 432x288 with 1 Axes>"
            ]
          },
          "metadata": {
            "needs_background": "light"
          },
          "output_type": "display_data"
        },
        {
          "name": "stdout",
          "output_type": "stream",
          "text": [
            "LABEL: 3\n"
          ]
        }
      ],
      "source": [
        "#let's try the plotting function\n",
        "plot_input(X_train,y_train,10)\n",
        "plot_input(X_test,y_test,50)\n",
        "plot_input(X_test,y_test,300)"
      ]
    },
    {
      "cell_type": "markdown",
      "metadata": {
        "id": "fqAAt-ffAtAp"
      },
      "source": [
        "## Exercize 1\n",
        "\n",
        "Now use a (feed-forward) Neural Network for prediction. Use the multi-layer perceptron (MLP) classifier MLPClassifier(...) in scikit-learn, with the following parameters: max_iter=300, alpha=1e-4, solver='sgd', tol=1e-4, learning_rate_init=.1, random_state=ID (this last parameter ensures the run is the same even if you run it more than once). The alpha parameter is the regularization parameter for L2 regularization that is used by the MLP in sklearn.\n",
        "\n",
        "Then, using the default activation function, pick four or five architectures to consider, with different numbers of hidden layers and different sizes. It is not necessary to create huge neural networks, you can limit to 3 layers and, for each layer, its maximum size can be of 100. You can evaluate the architectures you chose using the GridSearchCV with a 5-fold cross-validation, and use the results to pick the best architecture. The code below provides some architectures you can use, but you can choose other ones if you prefer.\n"
      ]
    },
    {
      "cell_type": "code",
      "execution_count": null,
      "metadata": {
        "id": "LG7l6KfSAtAq"
      },
      "outputs": [],
      "source": [
        "#function to print a dictionary in a formatted way\n",
        "def print_dicitonary(dict1):\n",
        "    for name, score in dict1.items():\n",
        "        print(\"{:<24} {}\".format(name, score))\n",
        "    return"
      ]
    },
    {
      "cell_type": "code",
      "execution_count": null,
      "metadata": {
        "id": "bYmTUk4WAtAq",
        "outputId": "42057057-3edc-4ca5-9545-ab8155eaa904"
      },
      "outputs": [
        {
          "name": "stdout",
          "output_type": "stream",
          "text": [
            "RESULTS FOR NN\n",
            "Best parameters set found:  {'hidden_layer_sizes': (50,)}\n",
            "Score with best parameters:  0.7700000000000001\n",
            "All scores on the grid:\n",
            "mean_fit_time            [1.18340178 1.54445915 0.32195792 1.00858541]\n",
            "std_fit_time             [0.41897079 0.05222742 0.16103338 0.26681025]\n",
            "mean_score_time          [0.00320077 0.         0.         0.00364099]\n",
            "std_score_time           [0.00392013 0.         0.         0.00368692]\n",
            "param_hidden_layer_sizes [(10,) (50,) (10, 10) (50, 50)]\n",
            "params                   [{'hidden_layer_sizes': (10,)}, {'hidden_layer_sizes': (50,)}, {'hidden_layer_sizes': (10, 10)}, {'hidden_layer_sizes': (50, 50)}]\n",
            "split0_test_score        [0.7  0.73 0.45 0.76]\n",
            "split1_test_score        [0.74 0.75 0.39 0.81]\n",
            "split2_test_score        [0.81 0.8  0.55 0.82]\n",
            "split3_test_score        [0.75 0.78 0.69 0.8 ]\n",
            "split4_test_score        [0.76 0.79 0.57 0.59]\n",
            "mean_test_score          [0.752 0.77  0.53  0.756]\n",
            "std_test_score           [0.03544009 0.02607681 0.10353743 0.08546344]\n",
            "rank_test_score          [3 1 4 2]\n"
          ]
        }
      ],
      "source": [
        "#MLPclassifier requires in input the parameter hidden_layer_sizes, that is a tuple specifying the number of \n",
        "#neurons in the hidden layers; for example: (10,) means that there is only 1 hidden layer with 10 neurons; \n",
        "#(10,50) means that there are 2 hidden layers, the first with 10 neurons, the second with 50 neurons\n",
        "\n",
        "#these are examples of possible architectures you can test, but feel free to use different architectures! \n",
        "hl_parameters = {'hidden_layer_sizes': [(10,), (50,), (10,10,), (50,50,)]}\n",
        "\n",
        "mlp_cv = MLPClassifier(max_iter=1000, alpha=1e-4, solver='sgd', tol=1e-4, learning_rate_init=.1,random_state=ID)  \n",
        "\n",
        "clf = GridSearchCV(mlp_cv, hl_parameters)\n",
        "clf.fit(X_train, y_train)\n",
        "print ('RESULTS FOR NN')\n",
        "print(\"Best parameters set found: \",clf.best_params_)\n",
        "print(\"Score with best parameters: \",clf.best_score_)\n",
        "print(\"All scores on the grid:\")\n",
        "print_dicitonary(clf.cv_results_)"
      ]
    },
    {
      "cell_type": "markdown",
      "metadata": {
        "id": "zC60rZjhAtAq"
      },
      "source": [
        "## Exercize 2\n",
        "\n",
        "What do you observe for different architectures and their scores? How do the number of layers and their sizes affect the performances?"
      ]
    },
    {
      "cell_type": "markdown",
      "metadata": {
        "collapsed": true,
        "id": "1C6F7puhAtAr"
      },
      "source": [
        "As we can see from the results the best NN are:\n",
        "1. one hidden layer with 50 neurons            mean score:  0.77\n",
        "2. two hidden layers with 50 neurons each      mean score:  0.756\n",
        "3. one hidden layer with 10 neurons            mean score:  0.752\n",
        "4. two hidden layers with 10 neurons each      mean score:  0.53\n",
        "\n",
        "Adding neurons on hidden layers you reach better scores.\n",
        "We can observe that, with this samples and features, adding only one layer doesn't allow you to perform better"
      ]
    },
    {
      "cell_type": "markdown",
      "metadata": {
        "id": "eZHoX30uAtAr"
      },
      "source": [
        "## Exercize 3\n",
        "\n",
        "Now get training and test error (according to the initial split) for a NN with best parameters chosen from the cross-validation above (and learning the NN weights from the entire training set). Use verbose=True\n",
        "in input so to see how loss changes in iterations. (Note that the loss used by the MLPclassifier may be different from the 0-1 loss, also called *accuracy*.)"
      ]
    },
    {
      "cell_type": "code",
      "execution_count": null,
      "metadata": {
        "id": "mGrOR11AAtAr",
        "outputId": "5764738e-1916-4340-b254-bdb9db1fd6cb"
      },
      "outputs": [
        {
          "name": "stdout",
          "output_type": "stream",
          "text": [
            "Iteration 1, loss = 2.32108346\n",
            "Iteration 2, loss = 1.56594989\n",
            "Iteration 3, loss = 1.36577929\n",
            "Iteration 4, loss = 0.99782773\n",
            "Iteration 5, loss = 0.85890960\n",
            "Iteration 6, loss = 0.76188287\n",
            "Iteration 7, loss = 0.85756419\n",
            "Iteration 8, loss = 0.60206587\n",
            "Iteration 9, loss = 0.54980136\n",
            "Iteration 10, loss = 0.48515193\n",
            "Iteration 11, loss = 0.46863238\n",
            "Iteration 12, loss = 0.41661047\n",
            "Iteration 13, loss = 0.39891669\n",
            "Iteration 14, loss = 0.39407181\n",
            "Iteration 15, loss = 0.33953487\n",
            "Iteration 16, loss = 0.32280414\n",
            "Iteration 17, loss = 0.38168754\n",
            "Iteration 18, loss = 0.31447142\n",
            "Iteration 19, loss = 0.27714903\n",
            "Iteration 20, loss = 0.27343026\n",
            "Iteration 21, loss = 0.21348693\n",
            "Iteration 22, loss = 0.19597487\n",
            "Iteration 23, loss = 0.17812299\n",
            "Iteration 24, loss = 0.16805312\n",
            "Iteration 25, loss = 0.19064897\n",
            "Iteration 26, loss = 0.18204192\n",
            "Iteration 27, loss = 0.17785367\n",
            "Iteration 28, loss = 0.24848981\n",
            "Iteration 29, loss = 0.12197219\n",
            "Iteration 30, loss = 0.12557686\n",
            "Iteration 31, loss = 0.11358131\n",
            "Iteration 32, loss = 0.10213042\n",
            "Iteration 33, loss = 0.10452251\n",
            "Iteration 34, loss = 0.08810530\n",
            "Iteration 35, loss = 0.10416757\n",
            "Iteration 36, loss = 0.08167997\n",
            "Iteration 37, loss = 0.06706991\n",
            "Iteration 38, loss = 0.08451591\n",
            "Iteration 39, loss = 0.06920411\n",
            "Iteration 40, loss = 0.12896019\n",
            "Iteration 41, loss = 0.56849845\n",
            "Iteration 42, loss = 0.20303177\n",
            "Iteration 43, loss = 0.10565396\n",
            "Iteration 44, loss = 0.08570228\n",
            "Iteration 45, loss = 0.07507885\n",
            "Iteration 46, loss = 0.09283178\n",
            "Iteration 47, loss = 0.06802656\n",
            "Iteration 48, loss = 0.04642764\n",
            "Iteration 49, loss = 0.04076221\n",
            "Iteration 50, loss = 0.03744128\n",
            "Iteration 51, loss = 0.03306885\n",
            "Iteration 52, loss = 0.03271441\n",
            "Iteration 53, loss = 0.02971462\n",
            "Iteration 54, loss = 0.02773673\n",
            "Iteration 55, loss = 0.02685833\n",
            "Iteration 56, loss = 0.02422382\n",
            "Iteration 57, loss = 0.02404050\n",
            "Iteration 58, loss = 0.02182807\n",
            "Iteration 59, loss = 0.01984621\n",
            "Iteration 60, loss = 0.01900040\n",
            "Iteration 61, loss = 0.01754548\n",
            "Iteration 62, loss = 0.01686782\n",
            "Iteration 63, loss = 0.01649610\n",
            "Iteration 64, loss = 0.01634304\n",
            "Iteration 65, loss = 0.01525731\n",
            "Iteration 66, loss = 0.01452576\n",
            "Iteration 67, loss = 0.01433143\n",
            "Iteration 68, loss = 0.01389174\n",
            "Iteration 69, loss = 0.01344798\n",
            "Iteration 70, loss = 0.01310677\n",
            "Iteration 71, loss = 0.01229580\n",
            "Iteration 72, loss = 0.01221447\n",
            "Iteration 73, loss = 0.01171146\n",
            "Iteration 74, loss = 0.01140617\n",
            "Iteration 75, loss = 0.01120317\n",
            "Iteration 76, loss = 0.01088058\n",
            "Iteration 77, loss = 0.01065189\n",
            "Iteration 78, loss = 0.01033540\n",
            "Iteration 79, loss = 0.01014075\n",
            "Iteration 80, loss = 0.01001207\n",
            "Iteration 81, loss = 0.00971010\n",
            "Iteration 82, loss = 0.00949260\n",
            "Iteration 83, loss = 0.00935497\n",
            "Iteration 84, loss = 0.00918447\n",
            "Iteration 85, loss = 0.00879241\n",
            "Iteration 86, loss = 0.00859038\n",
            "Iteration 87, loss = 0.00848462\n",
            "Iteration 88, loss = 0.00826260\n",
            "Iteration 89, loss = 0.00815664\n",
            "Iteration 90, loss = 0.00798494\n",
            "Iteration 91, loss = 0.00779493\n",
            "Iteration 92, loss = 0.00785345\n",
            "Iteration 93, loss = 0.00757217\n",
            "Iteration 94, loss = 0.00744141\n",
            "Iteration 95, loss = 0.00739880\n",
            "Iteration 96, loss = 0.00713486\n",
            "Iteration 97, loss = 0.00704294\n",
            "Iteration 98, loss = 0.00693280\n",
            "Iteration 99, loss = 0.00677388\n",
            "Iteration 100, loss = 0.00667804\n",
            "Iteration 101, loss = 0.00656656\n",
            "Iteration 102, loss = 0.00656873\n",
            "Iteration 103, loss = 0.00660776\n",
            "Iteration 104, loss = 0.00634116\n",
            "Iteration 105, loss = 0.00628779\n",
            "Iteration 106, loss = 0.00611294\n",
            "Iteration 107, loss = 0.00603093\n",
            "Iteration 108, loss = 0.00595036\n",
            "Iteration 109, loss = 0.00588180\n",
            "Iteration 110, loss = 0.00571065\n",
            "Iteration 111, loss = 0.00578743\n",
            "Iteration 112, loss = 0.00558656\n",
            "Iteration 113, loss = 0.00549868\n",
            "Iteration 114, loss = 0.00545089\n",
            "Iteration 115, loss = 0.00535509\n",
            "Iteration 116, loss = 0.00526654\n",
            "Iteration 117, loss = 0.00522276\n",
            "Iteration 118, loss = 0.00518366\n",
            "Iteration 119, loss = 0.00514093\n",
            "Iteration 120, loss = 0.00503142\n",
            "Iteration 121, loss = 0.00496822\n",
            "Iteration 122, loss = 0.00492313\n",
            "Iteration 123, loss = 0.00486972\n",
            "Iteration 124, loss = 0.00478413\n",
            "Iteration 125, loss = 0.00478659\n",
            "Iteration 126, loss = 0.00470953\n",
            "Iteration 127, loss = 0.00466352\n",
            "Iteration 128, loss = 0.00455794\n",
            "Iteration 129, loss = 0.00452977\n",
            "Iteration 130, loss = 0.00451072\n",
            "Iteration 131, loss = 0.00445529\n",
            "Iteration 132, loss = 0.00436933\n",
            "Iteration 133, loss = 0.00432629\n",
            "Iteration 134, loss = 0.00427968\n",
            "Iteration 135, loss = 0.00423391\n",
            "Iteration 136, loss = 0.00418220\n",
            "Iteration 137, loss = 0.00416689\n",
            "Iteration 138, loss = 0.00410613\n",
            "Iteration 139, loss = 0.00406978\n",
            "Training loss did not improve more than tol=0.000100 for 10 consecutive epochs. Stopping.\n",
            "\n",
            "RESULTS FOR BEST NN\n",
            "\n",
            "Best NN training error: 0.000000\n",
            "Best NN test error: 0.210689\n"
          ]
        }
      ],
      "source": [
        "#get training and test error for the best NN model from CV\n",
        "mlp = MLPClassifier(hidden_layer_sizes=(50,),verbose='true',max_iter=300, alpha=1e-4, solver='sgd', tol=1e-4, learning_rate_init=.1,random_state=ID).fit(X_train, y_train)  \n",
        "\n",
        "training_error = 1. - mlp.score(X_train,y_train)\n",
        "test_error = 1. - mlp.score(X_test,y_test)\n",
        "\n",
        "print ('\\nRESULTS FOR BEST NN\\n')\n",
        "print (\"Best NN training error: %f\" % training_error)\n",
        "print (\"Best NN test error: %f\" % test_error)"
      ]
    },
    {
      "cell_type": "markdown",
      "metadata": {
        "id": "e6cnY7yFAtAs"
      },
      "source": [
        "## More data \n",
        "Now let's do the same but using 10000 (or less if it takes too long on your machine) data points for training. Use the same NN architectures as before, but you can try more if you want!"
      ]
    },
    {
      "cell_type": "code",
      "execution_count": null,
      "metadata": {
        "id": "9Yw1CJElAtAs",
        "outputId": "db2a80ca-6e6b-434c-d36e-926a4c52214e"
      },
      "outputs": [
        {
          "name": "stdout",
          "output_type": "stream",
          "text": [
            "Labels and frequencies in training dataset: \n"
          ]
        },
        {
          "data": {
            "text/plain": [
              "(array([0, 1, 2, 3, 4, 5, 6, 7, 8, 9], dtype=uint8),\n",
              " array([ 994, 1030,  948,  985,  995, 1039,  991,  923, 1076, 1019],\n",
              "       dtype=int64))"
            ]
          },
          "execution_count": 11,
          "metadata": {},
          "output_type": "execute_result"
        }
      ],
      "source": [
        "X = X[permutation]\n",
        "y = y[permutation]\n",
        "\n",
        "m_training = 10000\n",
        "\n",
        "X_train, X_test = X[:m_training], X[m_training:]\n",
        "y_train, y_test = y[:m_training], y[m_training:]\n",
        "\n",
        "print(\"Labels and frequencies in training dataset: \")\n",
        "np.unique(y_train, return_counts=True)"
      ]
    },
    {
      "cell_type": "markdown",
      "metadata": {
        "id": "mrWcdaCiAtAt"
      },
      "source": [
        "## Exercize 4\n",
        "\n",
        "Now train the NNs with the added data points. Feel free to try more different architectures than before if you want, or less if it takes too much time. You can use 'verbose=True' so have an idea of how long it takes to run 1 iteration (eventually reduce also the number of iterations to 50)."
      ]
    },
    {
      "cell_type": "code",
      "execution_count": null,
      "metadata": {
        "scrolled": true,
        "id": "SXWr-x8-AtAt",
        "outputId": "e7c3f283-f6d7-42e1-8651-13c4a0b4e972"
      },
      "outputs": [
        {
          "name": "stdout",
          "output_type": "stream",
          "text": [
            "RESULTS FOR NN\n",
            "Best parameters set found:  {'hidden_layer_sizes': (50,)}\n",
            "Score with best parameters:  0.8504999999999999\n",
            "All scores on the grid:\n",
            "mean_fit_time            [16.61779027 29.58641496 12.93027425 23.10586095]\n",
            "std_fit_time             [3.24977878 3.81869298 3.70920944 4.8701015 ]\n",
            "mean_score_time          [0.00952621 0.01604433 0.00800247 0.02233977]\n",
            "std_score_time           [5.90839621e-03 3.07390159e-04 2.33309361e-06 5.77117698e-03]\n",
            "param_hidden_layer_sizes [(10,) (50,) (10, 10) (50, 50)]\n",
            "params                   [{'hidden_layer_sizes': (10,)}, {'hidden_layer_sizes': (50,)}, {'hidden_layer_sizes': (10, 10)}, {'hidden_layer_sizes': (50, 50)}]\n",
            "split0_test_score        [0.8155 0.8485 0.832  0.851 ]\n",
            "split1_test_score        [0.8235 0.8575 0.835  0.8425]\n",
            "split2_test_score        [0.8225 0.8455 0.8175 0.83  ]\n",
            "split3_test_score        [0.813  0.8405 0.8215 0.832 ]\n",
            "split4_test_score        [0.818  0.8605 0.835  0.859 ]\n",
            "mean_test_score          [0.8185 0.8505 0.8282 0.8429]\n",
            "std_test_score           [0.00401248 0.00745654 0.00729794 0.01104717]\n",
            "rank_test_score          [4 1 3 2]\n"
          ]
        }
      ],
      "source": [
        "#for NN we try the same architectures as before\n",
        "hl_parameters = {'hidden_layer_sizes': [(10,), (50,), (10,10,), (50,50,)]}\n",
        "\n",
        "mlp_large_cv = MLPClassifier(max_iter=300, alpha=1e-4, solver='sgd', tol=1e-4, learning_rate_init=.1,random_state=ID)  \n",
        "\n",
        "clf_large = GridSearchCV(mlp_cv, hl_parameters)\n",
        "clf_large.fit(X_train, y_train)\n",
        "print ('RESULTS FOR NN')\n",
        "print(\"Best parameters set found: \",clf_large.best_params_)\n",
        "print(\"Score with best parameters: \",clf_large.best_score_)\n",
        "print(\"All scores on the grid:\")\n",
        "print_dicitonary(clf_large.cv_results_)"
      ]
    },
    {
      "cell_type": "markdown",
      "metadata": {
        "id": "7gxrI618AtAt"
      },
      "source": [
        "## Exercize 5\n",
        "Describe your architecture choices and the results you observe with respect to the architectures you used."
      ]
    },
    {
      "cell_type": "markdown",
      "metadata": {
        "id": "VTUEj5_kAtAt"
      },
      "source": [
        "I decide to try with the same different architectures as above so I can compare the results.\n",
        "Using more data in the training set we can see that every NN of Exercize 4 performs better than the ones on Exercize 1.  \n",
        "The results are (Mean test score):\n",
        "1. one hidden layer with 50 neurons            mean score:  0.8505\n",
        "2. two hidden layers with 50 neurons each      mean score:  0.8429\n",
        "3. two hidden layers with 10 neurons each      mean score:  0.8282\n",
        "4. one hidden layer with 10 neurons            mean score:  0.8185\n",
        "\n",
        "As before the one that performs best is the one with only one layer with more neurons."
      ]
    },
    {
      "cell_type": "markdown",
      "metadata": {
        "id": "WJTnAOEGAtAu"
      },
      "source": [
        "## Exercize 6\n",
        "\n",
        "Get the train and test error for the best NN you obtained with 10000 points. This time you can run for 100 iterations if you cannot run for 300 iterations. \n"
      ]
    },
    {
      "cell_type": "code",
      "execution_count": null,
      "metadata": {
        "id": "z0sMXQ3BAtAu",
        "outputId": "3ca5d71e-e608-4e8b-a3b5-c4f9dba5e6dc"
      },
      "outputs": [
        {
          "name": "stdout",
          "output_type": "stream",
          "text": [
            "RESULTS FOR BEST NN\n",
            "\n",
            "Best NN training error: 0.000000\n",
            "Best NN test error: 0.145660\n"
          ]
        }
      ],
      "source": [
        "#get training and test error for the best NN model from CV\n",
        "best_mlp_large = MLPClassifier(hidden_layer_sizes=(50,),max_iter=300, alpha=1e-4, solver='sgd', tol=1e-4, learning_rate_init=.1,random_state=ID).fit(X_train, y_train)  \n",
        "\n",
        "#get the training and test error\n",
        "training_error = 1. - best_mlp_large.score(X_train,y_train)\n",
        "test_error = 1. - best_mlp_large.score(X_test,y_test)\n",
        "\n",
        "print ('RESULTS FOR BEST NN\\n')\n",
        "print (\"Best NN training error: %f\" % training_error)\n",
        "print (\"Best NN test error: %f\" % test_error)"
      ]
    },
    {
      "cell_type": "markdown",
      "metadata": {
        "id": "3_T7N9pHAtAu"
      },
      "source": [
        "## Exercize 7\n",
        "\n",
        "Compare the train and test error you got with a large number of samples with the best one you obtained with only 500 data points. Are the architectures the same or do they differ? What about the errors you get?"
      ]
    },
    {
      "cell_type": "markdown",
      "metadata": {
        "id": "es1gfDpSAtAu"
      },
      "source": [
        "10000 points:\n",
        "1. Best architecture: 1 hidden layer with 50 neurons\n",
        "2. Best NN training error: 0.000000\n",
        "3. Best NN test error: 0.145660\n",
        "\n",
        "\n",
        "500 points:\n",
        "1. Best architecture: 1 hidden layer with 50 neurons\n",
        "2. Best NN training error: 0.000000\n",
        "3. Best NN test error: 0.210689\n",
        "\n",
        "We can see that using more data we reach a better performance without overfitting with the same architecture."
      ]
    },
    {
      "cell_type": "markdown",
      "metadata": {
        "id": "GorCilnvAtAv"
      },
      "source": [
        "## Exercize 8\n",
        "\n",
        "Plot an image that was missclassified by NN with m=500 training data points and it is now instead correctly classified by NN with m=10000 training data points."
      ]
    },
    {
      "cell_type": "code",
      "execution_count": null,
      "metadata": {
        "scrolled": true,
        "id": "qE7nzN-aAtAv",
        "outputId": "1b7e7abb-afb5-465a-a880-5c14fa13aab8"
      },
      "outputs": [
        {
          "name": "stdout",
          "output_type": "stream",
          "text": [
            "2 \n",
            "SVM label correctly classified:  6\n",
            "Index:  10\n",
            "INPUT:\n"
          ]
        },
        {
          "data": {
            "image/png": "[encoded data removed]",
            "text/plain": [
              "<Figure size 432x288 with 1 Axes>"
            ]
          },
          "metadata": {
            "needs_background": "light"
          },
          "output_type": "display_data"
        },
        {
          "name": "stdout",
          "output_type": "stream",
          "text": [
            "LABEL: 6\n"
          ]
        }
      ],
      "source": [
        "y_test_predicted_10000=best_mlp_large.predict(X_test)\n",
        "y_test_predicted_500=mlp.predict(X_test)\n",
        "for i in range(0,len(y_test)):\n",
        "    if y_test_predicted_500[i]!=y_test[i] :\n",
        "        if y_test_predicted_10000[i]==y_test[i] :\n",
        "            print(y_test_predicted_500[i],\"\\nSVM label correctly classified: \",y_test_predicted_10000[i])\n",
        "            print(\"Index: \",i)\n",
        "            plot_input(X_test,y_test,i)\n",
        "            break"
      ]
    },
    {
      "cell_type": "markdown",
      "metadata": {
        "id": "YooXldRuAtAv"
      },
      "source": [
        "Let's plot some of the weigths of the multi-layer perceptron classifier, for the best NN we get with 500 data points and with 10000 data points. The code below plots the weights in a matrix form, where a figure represents all the weights of the edges entering in a hidden node. Notice that the code assumes that the NNs are called \"mlp\" and \"best_mlp_large\": you may need to replace such variables with your variable names. \n",
        "\n"
      ]
    },
    {
      "cell_type": "code",
      "execution_count": null,
      "metadata": {
        "id": "-wHOj3c9AtAv",
        "outputId": "e03d1bfa-70e9-4c6a-e4f8-05ed92d00aa4"
      },
      "outputs": [
        {
          "name": "stdout",
          "output_type": "stream",
          "text": [
            "Weights with 500 data points:\n"
          ]
        },
        {
          "data": {
            "image/png": "[encoded data removed]",
            "text/plain": [
              "<Figure size 432x288 with 16 Axes>"
            ]
          },
          "metadata": {},
          "output_type": "display_data"
        },
        {
          "name": "stdout",
          "output_type": "stream",
          "text": [
            "Weights with 10000 data points:\n"
          ]
        },
        {
          "data": {
            "image/png": "[encoded data removed]",
            "text/plain": [
              "<Figure size 432x288 with 16 Axes>"
            ]
          },
          "metadata": {},
          "output_type": "display_data"
        }
      ],
      "source": [
        "print(\"Weights with 500 data points:\")\n",
        "\n",
        "fig, axes = plt.subplots(4, 4)\n",
        "vmin, vmax = mlp.coefs_[0].min(), mlp.coefs_[0].max()\n",
        "for coef, ax in zip(mlp.coefs_[0].T, axes.ravel()):\n",
        "    ax.matshow(coef.reshape(28, 28), cmap=plt.cm.gray, vmin=.5 * vmin, vmax=.5 * vmax)\n",
        "    ax.set_xticks(())\n",
        "    ax.set_yticks(())\n",
        "\n",
        "plt.show()\n",
        "\n",
        "print(\"Weights with 10000 data points:\")\n",
        "\n",
        "fig, axes = plt.subplots(4, 4)\n",
        "vmin, vmax = best_mlp_large.coefs_[0].min(), best_mlp_large.coefs_[0].max()\n",
        "for coef, ax in zip(best_mlp_large.coefs_[0].T, axes.ravel()):\n",
        "    ax.matshow(coef.reshape(28, 28), cmap=plt.cm.gray, vmin=.5 * vmin, vmax=.5 * vmax)\n",
        "    ax.set_xticks(())\n",
        "    ax.set_yticks(())\n",
        "plt.show()"
      ]
    },
    {
      "cell_type": "markdown",
      "metadata": {
        "id": "of1zaEQnAtAw"
      },
      "source": [
        "## Exercize 9\n",
        "\n",
        "Describe what do you observe by looking at the weights:\n",
        "\n",
        "By looking at the weights we can see that using 10000 data we have more similar weigths than the ones obtained with 500 samples."
      ]
    },
    {
      "cell_type": "markdown",
      "metadata": {
        "id": "oG_TETpWAtAw"
      },
      "source": [
        "## Exercize 10\n",
        "\n",
        "Pick another classifier among the ones we have seen previously (SVM or something else). Report the training and test error for such classifier with 10000 samples in the training set, if possible; if the classifier cannot run with so many data sample reduce the number of samples.\n",
        "\n",
        "*Note*: if there are parameters to be optimized use cross-validation. If you choose SVM, you can decide if you want to use a single kernel or use the best among many; in the latter case, you need to pick the best kernel using cross-validation (using the functions available in sklearn).\n",
        "\n",
        "**[I decide to use logistic regression using max_iter=2000 in order to reach convergence.]**"
      ]
    },
    {
      "cell_type": "code",
      "execution_count": null,
      "metadata": {
        "id": "8P5FVoKvAtAw",
        "outputId": "b71fb5ad-a1ae-40a3-933c-84266b908340"
      },
      "outputs": [
        {
          "name": "stdout",
          "output_type": "stream",
          "text": [
            "RESULTS FOR OTHER CLASSIFIER\n",
            "\n",
            "Best training error (other model): 0.067800\n",
            "Best test error (other model): 0.167680\n"
          ]
        }
      ],
      "source": [
        "# ADD YOUR CODE\n",
        "from sklearn import linear_model\n",
        "\n",
        "lr = linear_model.LogisticRegression(max_iter=2000)\n",
        "# fit the model on the training data\n",
        "lr.fit(X_train, y_train)\n",
        "\n",
        "#compute training and test error for model above\n",
        "training_error_other = 1. - lr.score(X_train,y_train)\n",
        "test_error_other =1. -  lr.score(X_test,y_test)\n",
        "\n",
        "print ('RESULTS FOR OTHER CLASSIFIER\\n')\n",
        "print (\"Best training error (other model): %f\" % training_error_other)\n",
        "print (\"Best test error (other model): %f\" % test_error_other)"
      ]
    },
    {
      "cell_type": "markdown",
      "metadata": {
        "collapsed": true,
        "id": "DZ_aQsPdAtAx"
      },
      "source": [
        "## Exercize 11\n",
        "Compare the results of NN and of the other classifier you have chosen above. Which classifier would you preferer? Provide a brief explanation."
      ]
    },
    {
      "cell_type": "markdown",
      "metadata": {
        "collapsed": true,
        "id": "fe0K37hUAtAx"
      },
      "source": [
        "We can see that in this case the NN performs better than logistic regression in both training and test.\n",
        "I would prefer using NN for the scores obtained even if more time is needed for thei training"
      ]
    },
    {
      "cell_type": "markdown",
      "metadata": {
        "id": "BdemEIO-AtAx"
      },
      "source": [
        "# Clustering with K-means\n",
        "\n",
        "Clustering is a useful technique for *unsupervised* learning. We are now going to cluster 2000 images in the fashion MNIST dataset, and try to understand if the clusters we obtain correspond to the true labels."
      ]
    },
    {
      "cell_type": "code",
      "execution_count": null,
      "metadata": {
        "id": "YL-sfCajAtAx"
      },
      "outputs": [],
      "source": [
        "#load the required packages\n",
        "from sklearn import metrics\n",
        "from sklearn.cluster import KMeans"
      ]
    },
    {
      "cell_type": "markdown",
      "metadata": {
        "id": "QhNKX0k6AtAy"
      },
      "source": [
        "(Note that the code below assumes that the data has already been transformed as in the NN part of the notebook, so make sure to run the code for the transformation even if you do not complete the part on NN.)"
      ]
    },
    {
      "cell_type": "code",
      "execution_count": null,
      "metadata": {
        "id": "G9H-aCu3AtAy"
      },
      "outputs": [],
      "source": [
        "#let's consider only 2000 data points\n",
        "X = X[permutation]\n",
        "y = y[permutation]\n",
        "\n",
        "m_training = 2000\n",
        "\n",
        "X_train, X_test = X[:m_training], X[m_training:]\n",
        "y_train, y_test = y[:m_training], y[m_training:]"
      ]
    },
    {
      "cell_type": "markdown",
      "metadata": {
        "id": "oKV7-qT7AtAy"
      },
      "source": [
        "## Exercize 1\n",
        "Cluster the points using the KMeans() and fit() functions (see the userguide for details). For Kmeans, set: n_clusters=10 as number of clusters; n_init=10 as the number of times the algorithm will be run with different centroid seeds; random_state = ID. You can use the default setting for the other parameters."
      ]
    },
    {
      "cell_type": "code",
      "execution_count": null,
      "metadata": {
        "id": "YXWmpbmzAtAy"
      },
      "outputs": [],
      "source": [
        "kmeans = KMeans(n_clusters=10, n_init=10, random_state=ID).fit(X_train)\n",
        "y_train_predicted=kmeans.predict(X_train)\n",
        "y_test_predicted=kmeans.predict(X_test)"
      ]
    },
    {
      "cell_type": "markdown",
      "metadata": {
        "id": "HFjun7v4AtAz"
      },
      "source": [
        "## Comparison of clusters with true labels"
      ]
    },
    {
      "cell_type": "markdown",
      "metadata": {
        "id": "ggD_qvUJAtAz"
      },
      "source": [
        "## Exercize 2\n",
        "Now compare the obtained clusters with the true labels, using the function sklearn.metrics.cluster.contingency_matrix() (see the userguide for details). The function prints a matrix $A$ such that entry $A_{i,j}$ is is the number of samples in true class $i$ and in predicted class $j$."
      ]
    },
    {
      "cell_type": "code",
      "execution_count": null,
      "metadata": {
        "scrolled": true,
        "id": "crvcepTvAtAz",
        "outputId": "160b06c3-10ca-49df-a62f-0b95fd7550e7"
      },
      "outputs": [
        {
          "name": "stdout",
          "output_type": "stream",
          "text": [
            "A train:\n",
            " [[  2   2   3   0  16 112   1   0  67   0]\n",
            " [  0   0   2 184  10   5   1   0   8   0]\n",
            " [  2  10 102   0   2   3   0   0  71   0]\n",
            " [  1   6   1   5 147  12   0   0  33   0]\n",
            " [  2   3 135   0  17  10   2   0  25   0]\n",
            " [  1 153   0   0   0   0   0  41   0  17]\n",
            " [  2   6  71   1   9  38   3   0  70   0]\n",
            " [  0  31   0   0   0   0   0 153   0   3]\n",
            " [ 72  15   7   0   0   1  85  22  10   0]\n",
            " [  0   6   0   0   0   0   2  28   2 149]]\n",
            "A test:\n",
            " [[  31  189  141    5  526 3129   21    3 1752    0]\n",
            " [   0   47   70 4979  302  110    2    0  280    0]\n",
            " [  43  187 3687    0   38   92   31    4 1728    0]\n",
            " [   6  133   57  146 3775  508    2    0 1167    1]\n",
            " [  35   92 3776    7  519  427   12    0  938    0]\n",
            " [  12 3987    0    0    7    0    7 1253   77  445]\n",
            " [  23  322 2028    2  261  938   63    9 2152    2]\n",
            " [   0  841    0    0    0    0    4 4769    1  198]\n",
            " [2368  260  257    2   54   20 2015  381  423    8]\n",
            " [   3  173   10    0   14    2    5  886   57 4663]]\n"
          ]
        }
      ],
      "source": [
        "# compute and print the contingency matrix for the true labels vs the clustering assignments\n",
        "Atrain=sklearn.metrics.cluster.contingency_matrix(y_train, y_train_predicted, eps=None, sparse=False)\n",
        "Atest=sklearn.metrics.cluster.contingency_matrix(y_test, y_test_predicted, eps=None, sparse=False)\n",
        "print(\"A train:\\n\",Atrain)\n",
        "print(\"A test:\\n\",Atest)"
      ]
    },
    {
      "cell_type": "markdown",
      "metadata": {
        "id": "N5fSV-cuAtAz"
      },
      "source": [
        "## Exercize 3\n",
        "Based on the matrix shown above, comment on the results of clustering in terms of adherence to the true labels.\n",
        "\n",
        "\n",
        "The matrix is not diagonal so we can undestand that the label predicted is different from the true label.\n",
        "In addiction in the same row (or column) we can find different high numbers, this demonstrates a general bad prediction. "
      ]
    },
    {
      "cell_type": "markdown",
      "metadata": {
        "id": "2tH1VbhSAtAz"
      },
      "source": [
        "## Choice of k with silhoutte coefficient\n",
        "In many real applications it is unclear what is the correct value of $k$ to use. In practice one tries different values of $k$ and then uses some external score to choose a value of $k$. One such score is the silhoutte coefficient, that can be computed with metrics.silhouette_score(). See the definition of the silhoutte coefficient in the userguide."
      ]
    },
    {
      "cell_type": "markdown",
      "metadata": {
        "id": "TlcY_UrdAtA0"
      },
      "source": [
        "## Exercize 4\n",
        "Compute the clustering for k=2,3,...,15 (other parameters as above) and print the silhoutte coefficient for each such clustering."
      ]
    },
    {
      "cell_type": "code",
      "execution_count": null,
      "metadata": {
        "id": "nCFmciyGAtA0",
        "outputId": "1e904e03-2fbf-4fae-e3d2-3c976febc9a5"
      },
      "outputs": [
        {
          "name": "stdout",
          "output_type": "stream",
          "text": [
            "TRAIN:\n",
            "Silhoutte coefficient for number of clusters=2: 0.19218844745410116\n",
            "Silhoutte coefficient for number of clusters=3: 0.19318552700684394\n",
            "Silhoutte coefficient for number of clusters=4: 0.18648436750931824\n",
            "Silhoutte coefficient for number of clusters=5: 0.16771506964988417\n",
            "Silhoutte coefficient for number of clusters=6: 0.15544582617750774\n",
            "Silhoutte coefficient for number of clusters=7: 0.16674838772511752\n",
            "Silhoutte coefficient for number of clusters=8: 0.1541011947169928\n",
            "Silhoutte coefficient for number of clusters=9: 0.15432860094961004\n",
            "Silhoutte coefficient for number of clusters=10: 0.14874931895814794\n",
            "Silhoutte coefficient for number of clusters=11: 0.1507628647056733\n",
            "Silhoutte coefficient for number of clusters=12: 0.14011846182844995\n",
            "Silhoutte coefficient for number of clusters=13: 0.13345524434227446\n",
            "Silhoutte coefficient for number of clusters=14: 0.12504223578340048\n",
            "Silhoutte coefficient for number of clusters=15: 0.12495412544381009\n",
            "TEST:\n",
            "Silhoutte coefficient for number of clusters=2: 0.1930658211474592\n",
            "Silhoutte coefficient for number of clusters=3: 0.18954994875742592\n",
            "Silhoutte coefficient for number of clusters=4: 0.18125221705917774\n",
            "Silhoutte coefficient for number of clusters=5: 0.16388816681831814\n",
            "Silhoutte coefficient for number of clusters=6: 0.15565463980727784\n",
            "Silhoutte coefficient for number of clusters=7: 0.1660747849925748\n",
            "Silhoutte coefficient for number of clusters=8: 0.1536859773187203\n",
            "Silhoutte coefficient for number of clusters=9: 0.15263952745654713\n",
            "Silhoutte coefficient for number of clusters=10: 0.14482121523221153\n",
            "Silhoutte coefficient for number of clusters=11: 0.14765652382085467\n",
            "Silhoutte coefficient for number of clusters=12: 0.13486693175451986\n",
            "Silhoutte coefficient for number of clusters=13: 0.13058531739521248\n",
            "Silhoutte coefficient for number of clusters=14: 0.12211562560321405\n",
            "Silhoutte coefficient for number of clusters=15: 0.11973548082889199\n"
          ]
        }
      ],
      "source": [
        "#run k-means with 10 choices of initial centroids for a range of values of n_clusters\n",
        "#Atrain=sklearn.metrics.cluster.contingency_matrix(y_train, y_train_predicted, eps=None, sparse=False)\n",
        "print(\"TRAIN:\")\n",
        "for i in range(2,16):\n",
        "    kmeans = KMeans(n_clusters=i, n_init=10, random_state=ID).fit(X_train)\n",
        "    y_train_predicted=kmeans.predict(X_train)\n",
        "    silhouttescore =sklearn.metrics.silhouette_score(X_train, y_train_predicted,metric='euclidean', sample_size=None, random_state=None)\n",
        "    print(\"Silhoutte coefficient for number of clusters=\"+str(i)+\": \"+str(silhouttescore))\n",
        "    \n",
        "print(\"TEST:\")\n",
        "for i in range(2,16):\n",
        "    kmeans = KMeans(n_clusters=i, n_init=10, random_state=ID).fit(X_train)\n",
        "    y_test_predicted=kmeans.predict(X_test)\n",
        "    silhouttescore =sklearn.metrics.silhouette_score(X_test, y_test_predicted,metric='euclidean', sample_size=None, random_state=None)\n",
        "    print(\"Silhoutte coefficient for number of clusters=\"+str(i)+\": \"+str(silhouttescore))"
      ]
    },
    {
      "cell_type": "markdown",
      "metadata": {
        "id": "8dz0JZ2VAtA0"
      },
      "source": [
        "## Exercize 5\n",
        "\n",
        "Based on the silhoutte score, which $k$ would you pick? Motivate your choice. Does your choice match what you know about the data? If yes, explain why you think this is the case; if no, explain what you think may be the reason."
      ]
    },
    {
      "cell_type": "markdown",
      "metadata": {
        "id": "RNpA4M-NAtA0"
      },
      "source": [
        "The best is k=2.\n",
        "This doesn't match with what i know about data because there are 10 label so I was Expecting best k=10.\n",
        "After seeing the Silhoutte I think that the reason for these results can be that we have some outliers, different deviations of clusters (the dispersion is not uniform), not spherical shape of clusters.\n",
        "\n",
        "1. Silhoutte coefficient k=2  ≃ 0.193\n",
        "2. Silhoutte coefficient k=10 ≃ 0.145\n",
        "3. Silhoutte coefficient k=15 ≃ 0.12"
      ]
    }
  ],
  "metadata": {
    "kernelspec": {
      "display_name": "Python 3",
      "language": "python",
      "name": "python3"
    },
    "language_info": {
      "codemirror_mode": {
        "name": "ipython",
        "version": 3
      },
      "file_extension": ".py",
      "mimetype": "text/x-python",
      "name": "python",
      "nbconvert_exporter": "python",
      "pygments_lexer": "ipython3",
      "version": "3.8.3"
    },
    "colab": {
      "name": "3_Neural_Networks_for_Classification.ipynb",
      "provenance": [],
      "toc_visible": true
    }
  },
  "nbformat": 4,
  "nbformat_minor": 0
}